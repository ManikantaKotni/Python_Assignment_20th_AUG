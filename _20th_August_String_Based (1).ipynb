{
 "cells": [
  {
   "cell_type": "code",
   "execution_count": null,
   "id": "e4a70a4b-a35c-4115-a880-79c26083fc22",
   "metadata": {},
   "outputs": [],
   "source": [
    "#Q1Write a program to reverse a string."
   ]
  },
  {
   "cell_type": "code",
   "execution_count": 1,
   "id": "d74cc87d-5fb0-4958-8dcd-2572efa9a4ef",
   "metadata": {},
   "outputs": [
    {
     "name": "stdin",
     "output_type": "stream",
     "text": [
      "Enter a string:  \"LKJHGFLKJHGFLKJHGFFGIUYTREIUYTREOIUYTRMNBVC\"\n"
     ]
    },
    {
     "name": "stdout",
     "output_type": "stream",
     "text": [
      "reveresed string: \"CVBNMRTYUIOERTYUIERTYUIGFFGHJKLFGHJKLFGHJKL\"\n"
     ]
    }
   ],
   "source": [
    "string = str(input(\"Enter a string: \"))\n",
    "reverse_string = string[::-1]\n",
    "print(f\"reveresed string: {reverse_string}\")"
   ]
  },
  {
   "cell_type": "code",
   "execution_count": 14,
   "id": "a654750b-3659-4a11-83c7-385593da9b27",
   "metadata": {},
   "outputs": [],
   "source": [
    "#Q2 Check if a string is Palindrome"
   ]
  },
  {
   "cell_type": "code",
   "execution_count": 2,
   "id": "48d2a872-5bca-4f3e-bfc6-d91ab38b4478",
   "metadata": {},
   "outputs": [
    {
     "name": "stdin",
     "output_type": "stream",
     "text": [
      "Enter string:  \"LKUYLKJH\"\n"
     ]
    },
    {
     "name": "stdout",
     "output_type": "stream",
     "text": [
      "string is not palindrome\n",
      "10\n",
      "\"lkuylkjh\"\n"
     ]
    }
   ],
   "source": [
    "string = input(\"Enter string: \")\n",
    "\n",
    "if  string ==string[::-1]:\n",
    "    print(\"String is palindrome\")\n",
    "    print(len(string))\n",
    "    print(string.upper())\n",
    "else:\n",
    "    print(\"string is not palindrome\")\n",
    "    print(len(string))\n",
    "    print(string.lower())\n"
   ]
  },
  {
   "cell_type": "code",
   "execution_count": null,
   "id": "6d2671e7-790a-426e-81b8-8f434ba065fe",
   "metadata": {},
   "outputs": [],
   "source": [
    "#Q3 Convert string to uppercase "
   ]
  },
  {
   "cell_type": "code",
   "execution_count": 12,
   "id": "a3baee45-282a-4542-946a-d18cca6309ae",
   "metadata": {},
   "outputs": [
    {
     "name": "stdin",
     "output_type": "stream",
     "text": [
      "Enter letters in lower case: \"asdfg\"\n"
     ]
    },
    {
     "name": "stdout",
     "output_type": "stream",
     "text": [
      "\"ASDFG\"\n"
     ]
    }
   ],
   "source": [
    "Upper_case = str(input(\"Enter letters in lower case:\"))\n",
    "\n",
    "print(Upper_case.upper()) "
   ]
  },
  {
   "cell_type": "code",
   "execution_count": 9,
   "id": "1fd16d2c-5ca4-460a-8cd3-d3399c9ad12c",
   "metadata": {},
   "outputs": [],
   "source": [
    "#Q4 Convert a string to lower case "
   ]
  },
  {
   "cell_type": "code",
   "execution_count": 11,
   "id": "b80af2cc-682f-4d80-aa4e-a18e4a6a3aa4",
   "metadata": {},
   "outputs": [
    {
     "name": "stdin",
     "output_type": "stream",
     "text": [
      "Enter letters in upper case: \"ASDFG\"\n"
     ]
    },
    {
     "name": "stdout",
     "output_type": "stream",
     "text": [
      "\"asdfg\"\n"
     ]
    }
   ],
   "source": [
    "lower_case = str(input(\"Enter letters in upper case:\"))\n",
    "\n",
    "print(lower_case.lower())"
   ]
  },
  {
   "cell_type": "code",
   "execution_count": 13,
   "id": "e979e41d-6064-4c16-82e1-840bc45e134f",
   "metadata": {},
   "outputs": [],
   "source": [
    "#Q5Count no of vowels in a string"
   ]
  },
  {
   "cell_type": "code",
   "execution_count": 11,
   "id": "bea5fbe7-30e4-40c2-ab26-33974057c86b",
   "metadata": {},
   "outputs": [
    {
     "name": "stdin",
     "output_type": "stream",
     "text": [
      "enter string:  \"lkjhfdsrtyuio\"\n"
     ]
    },
    {
     "name": "stdout",
     "output_type": "stream",
     "text": [
      "vowels count: 3\n"
     ]
    }
   ],
   "source": [
    "def count_vowel(string):\n",
    "    vowels =\"aeiouAEIOU\"\n",
    "    vowel_count = 0\n",
    "    \n",
    "    for bar in string:\n",
    "        if bar in vowels: \n",
    "            vowel_count +=1\n",
    "            \n",
    "    return vowel_count\n",
    "\n",
    "user_string= (input(\"enter string: \"))\n",
    "num_vowels = count_vowel(user_string)           \n",
    "print(\"vowels count:\" ,num_vowels)         "
   ]
  },
  {
   "cell_type": "code",
   "execution_count": null,
   "id": "e76fef37-9647-4726-b432-30fb4e843af6",
   "metadata": {},
   "outputs": [],
   "source": [
    "#Q6Count the number of consonants in a string."
   ]
  },
  {
   "cell_type": "code",
   "execution_count": 18,
   "id": "9e33e3dc-86c9-45ae-86f2-b73a2059629e",
   "metadata": {},
   "outputs": [
    {
     "name": "stdin",
     "output_type": "stream",
     "text": [
      "enter string:  \"zxr\n"
     ]
    },
    {
     "name": "stdout",
     "output_type": "stream",
     "text": [
      "no of consonents: 3\n"
     ]
    }
   ],
   "source": [
    "def count_consonents(string):\n",
    "    consonents = \"zxcvrtZXCVRT\"\n",
    "    consonents_count = 0 \n",
    "    \n",
    "    for zo in string:\n",
    "        if zo in consonents:\n",
    "            consonents_count +=1\n",
    "            \n",
    "    return consonents_count\n",
    "\n",
    "user_string=(input(\"enter string: \"))\n",
    "num_consonents = count_consonents(user_string)\n",
    "print(\"no of consonents:\", num_consonents)"
   ]
  },
  {
   "cell_type": "code",
   "execution_count": 31,
   "id": "cb3f9530-9c0c-46b4-99d2-17c716f6e80a",
   "metadata": {},
   "outputs": [],
   "source": [
    "#Q7Remove all whitespaces from a string."
   ]
  },
  {
   "cell_type": "code",
   "execution_count": 42,
   "id": "2a1c9a46-a4de-45fd-80a2-2bd7cd3106ca",
   "metadata": {},
   "outputs": [
    {
     "name": "stdin",
     "output_type": "stream",
     "text": [
      "Enter String : \"Science is intersting\"\n"
     ]
    },
    {
     "name": "stdout",
     "output_type": "stream",
     "text": [
      "\"Scienceisintersting\"\n"
     ]
    }
   ],
   "source": [
    "User_String= input(\"Enter String :\")\n",
    "\n",
    "print(User_String.replace(\" \" , \"\"))"
   ]
  },
  {
   "cell_type": "code",
   "execution_count": null,
   "id": "765d18a5-6753-4f65-9c36-a14ba907f05b",
   "metadata": {},
   "outputs": [],
   "source": [
    "#Q8Find the length of a string without using the `len()` function."
   ]
  },
  {
   "cell_type": "code",
   "execution_count": 59,
   "id": "b369991c-43f3-4d56-a5f6-41fee43d6536",
   "metadata": {},
   "outputs": [
    {
     "name": "stdin",
     "output_type": "stream",
     "text": [
      "Enter your string: \"science is beautiful\"\n"
     ]
    },
    {
     "name": "stdout",
     "output_type": "stream",
     "text": [
      "length of the string 22\n"
     ]
    }
   ],
   "source": [
    "string= input(\"Enter your string:\")\n",
    "count =0\n",
    "    \n",
    "for i in string:\n",
    "    count +=1\n",
    "print(\"length of the string\" , count)"
   ]
  },
  {
   "cell_type": "code",
   "execution_count": 60,
   "id": "49221b20-9ae3-429d-a785-e7655bc6f834",
   "metadata": {},
   "outputs": [],
   "source": [
    "#Q9Check if a string contains a specific word."
   ]
  },
  {
   "cell_type": "code",
   "execution_count": 93,
   "id": "fc4c921d-8441-4958-af52-4828dffed8ff",
   "metadata": {},
   "outputs": [
    {
     "name": "stdout",
     "output_type": "stream",
     "text": [
      "This string does not contains: 'mani'\n"
     ]
    }
   ],
   "source": [
    "G=\"When growing microbes or animal cells in a stirred-tank reactor, it is critical to choose the impeller type that is best suited to your process. Select the wrong impeller, and you could make chop suey of your filamentous fungi\"\n",
    "\n",
    "specific_word = \"mani\"\n",
    "\n",
    "if specific_word in G:\n",
    "    print(f\"This string contains: '{specific_word}'\")\n",
    "else:\n",
    "    print(f\"This string does not contains: '{specific_word}'\")"
   ]
  },
  {
   "cell_type": "code",
   "execution_count": 96,
   "id": "93dc77d0-a723-4c49-8f9d-839633aa2dad",
   "metadata": {},
   "outputs": [
    {
     "name": "stdin",
     "output_type": "stream",
     "text": [
      "Enter specific word: TATA SKY\n"
     ]
    },
    {
     "name": "stdout",
     "output_type": "stream",
     "text": [
      "This string does not contains: 'TATA SKY'\n"
     ]
    }
   ],
   "source": [
    "G=\"When growing microbes or animal cells in a stirred-tank reactor, it is critical to choose the impeller type that is best suited to your process. Select the wrong impeller, and you could make chop suey of your filamentous fungi\"\n",
    "\n",
    "specific_word = input(\"Enter specific word:\")\n",
    "\n",
    "if specific_word in G:\n",
    "    print(f\"This string contains: '{specific_word}'\")\n",
    "else:\n",
    "    print(f\"This string does not contains: '{specific_word}'\")"
   ]
  },
  {
   "cell_type": "code",
   "execution_count": 1,
   "id": "03bd0dbe-ef96-44d3-8946-1369746c0a7a",
   "metadata": {},
   "outputs": [],
   "source": [
    "#Q10Replace a word in a string with another word."
   ]
  },
  {
   "cell_type": "code",
   "execution_count": 29,
   "id": "cb072b55-1eff-4ee5-9b8d-8439cf82f340",
   "metadata": {},
   "outputs": [
    {
     "name": "stdout",
     "output_type": "stream",
     "text": [
      "Modified Sentence : When growing microbes or human cells in a stirred-tank reactor, it is critical to choose the impeller type that is best suited to your process. Select the wrong impeller, and you could make chop suey of your filamentous fungi\n"
     ]
    }
   ],
   "source": [
    "G=\"When growing microbes or animal cells in a stirred-tank reactor, it is critical to choose the impeller type that is best suited to your process. Select the wrong impeller, and you could make chop suey of your filamentous fungi\"\n",
    "\n",
    "print(\"Modified Sentence :\" , G.replace(\"animal\" , \"human\"))\n"
   ]
  },
  {
   "cell_type": "code",
   "execution_count": 30,
   "id": "7aab342b-10f3-489a-9322-f8c2cfc14dfb",
   "metadata": {},
   "outputs": [],
   "source": [
    "#Q11Count the occurrences of a word in a string."
   ]
  },
  {
   "cell_type": "code",
   "execution_count": 63,
   "id": "7d6d5d94-72d5-41ec-b58d-524e30103a8a",
   "metadata": {},
   "outputs": [
    {
     "data": {
      "text/plain": [
       "2"
      ]
     },
     "execution_count": 63,
     "metadata": {},
     "output_type": "execute_result"
    }
   ],
   "source": [
    "H= \"When growing microbes or human cells in a stirred-tank reactor, it is critical to choose the impeller type that is best suited to your process. Select the wrong impeller, and you could make chop suey of your filamentous fungi\"\n",
    "\n",
    "H.count(\"is\")"
   ]
  },
  {
   "cell_type": "code",
   "execution_count": null,
   "id": "03274e02-7337-49d8-b2a2-1e79ff20cfc9",
   "metadata": {},
   "outputs": [],
   "source": [
    "#Q12Find the first occurrence of a word in a string."
   ]
  },
  {
   "cell_type": "code",
   "execution_count": 7,
   "id": "6de9647b-9a1a-43e1-857b-bc36400d1bb3",
   "metadata": {},
   "outputs": [
    {
     "name": "stdin",
     "output_type": "stream",
     "text": [
      "Enter specific word: mani\n"
     ]
    },
    {
     "name": "stdout",
     "output_type": "stream",
     "text": [
      "This string contains 'mani', at index-1\n"
     ]
    }
   ],
   "source": [
    "P=\"Here is a schematic of the redox reactions of the Clark-type electrode used to measure oxygen production in chloroplasts (and oxygen consumption in mitochondria)\"\n",
    "\n",
    "specific_word = input(\"Enter specific word:\")\n",
    "\n",
    "index = P.find(\"specific_word\")\n",
    "\n",
    "if index == -1:\n",
    "    print(f\"This string contains '{specific_word}', at index{index}\")\n",
    "else:\n",
    "    print(f\"This string does not contains '{specific_word}'.\")"
   ]
  },
  {
   "cell_type": "code",
   "execution_count": null,
   "id": "ae7d72a6-6876-4971-a7e4-4524bb2250b0",
   "metadata": {},
   "outputs": [],
   "source": [
    "#Q13Find the last occurrence of a word in a string."
   ]
  },
  {
   "cell_type": "code",
   "execution_count": 6,
   "id": "2c81053a-fac1-44a9-91c7-7d5ed02969d9",
   "metadata": {},
   "outputs": [
    {
     "name": "stdin",
     "output_type": "stream",
     "text": [
      "Enter a specific word:  is\n"
     ]
    },
    {
     "name": "stdout",
     "output_type": "stream",
     "text": [
      "This string contains 'is' at index 5.\n"
     ]
    }
   ],
   "source": [
    "P = \"Here is a schematic of the redox reactions of the Clark-type electrode used to measure oxygen production in chloroplasts (and oxygen consumption in mitochondria)\"\n",
    "\n",
    "specific_word = input(\"Enter a specific word: \")\n",
    "\n",
    "index = P.rfind(specific_word)\n",
    "\n",
    "if index != -1:\n",
    "    print(f\"This string contains '{specific_word}' at index {index}.\")\n",
    "else:\n",
    "    print(f\"This string does not contain '{specific_word}'.\")\n"
   ]
  },
  {
   "cell_type": "code",
   "execution_count": null,
   "id": "d6b88fc6-e04c-448c-b1e5-06de1d2d498b",
   "metadata": {},
   "outputs": [],
   "source": [
    "#Q14Split a string into a list of words."
   ]
  },
  {
   "cell_type": "code",
   "execution_count": 1,
   "id": "3c5de32a-1629-4596-b733-1f85aeacabc6",
   "metadata": {},
   "outputs": [
    {
     "data": {
      "text/plain": [
       "['Select',\n",
       " 'the',\n",
       " 'wrong',\n",
       " 'impeller,',\n",
       " 'and',\n",
       " 'you',\n",
       " 'could',\n",
       " 'make',\n",
       " 'chop',\n",
       " 'suey',\n",
       " 'of',\n",
       " 'your',\n",
       " 'filamentous',\n",
       " 'fungi']"
      ]
     },
     "execution_count": 1,
     "metadata": {},
     "output_type": "execute_result"
    }
   ],
   "source": [
    "H= \"Select the wrong impeller, and you could make chop suey of your filamentous fungi\"\n",
    "\n",
    "H.split()"
   ]
  },
  {
   "cell_type": "code",
   "execution_count": null,
   "id": "78438dcc-7613-492e-bca5-52898f6efe97",
   "metadata": {},
   "outputs": [],
   "source": [
    "#Q15 Join a list of words into a string."
   ]
  },
  {
   "cell_type": "code",
   "execution_count": 8,
   "id": "0aaeffd5-c593-4416-81fd-c1371ded55ce",
   "metadata": {},
   "outputs": [
    {
     "name": "stdout",
     "output_type": "stream",
     "text": [
      "When what why whom which are  5y's\n"
     ]
    }
   ],
   "source": [
    "i= ['When','what','why','whom', 'which' , 'are ',  \"5y's\"]\n",
    "print(' '.join(i))\n"
   ]
  },
  {
   "cell_type": "code",
   "execution_count": null,
   "id": "6cd416f1-d680-441e-864f-bbf23f2a7656",
   "metadata": {},
   "outputs": [],
   "source": [
    "#Q16. Convert a string where words are separated by spaces to one where words are separated by underscores."
   ]
  },
  {
   "cell_type": "code",
   "execution_count": 14,
   "id": "521d8db6-7af2-4c50-9d86-bc95b5e2e747",
   "metadata": {},
   "outputs": [
    {
     "name": "stdout",
     "output_type": "stream",
     "text": [
      "As_of_2023,_India_ranks_14th_in_the_list_of_most_powerful_countries.\n"
     ]
    }
   ],
   "source": [
    "O=\"As of 2023, India ranks 14th in the list of most powerful countries.\"\n",
    "print(O.replace(\" \", \"_\"))"
   ]
  },
  {
   "cell_type": "code",
   "execution_count": null,
   "id": "9d89165f-84d9-40c3-8876-230775d32e9b",
   "metadata": {},
   "outputs": [],
   "source": [
    "#Q17 Check if a string starts with a specific word or phrase."
   ]
  },
  {
   "cell_type": "code",
   "execution_count": 34,
   "id": "e8c5ea1a-ac00-49c8-968a-43dd0a6f57fa",
   "metadata": {},
   "outputs": [
    {
     "name": "stdout",
     "output_type": "stream",
     "text": [
      "This is not started with Prefix.\n"
     ]
    }
   ],
   "source": [
    "def starts_with(text, prefix):\n",
    "\n",
    "    is_start = text.startswith(prefix)\n",
    "    \n",
    "    return is_start\n",
    "\n",
    "text =\"Hello World iam ROBOT 5.0\"\n",
    "prefix = \"World\"\n",
    "result =starts_with(text, prefix)\n",
    "    \n",
    "if result:\n",
    "    print(\"This string started with Prefix.\")\n",
    "else:\n",
    "    print(\"This is not started with Prefix.\")"
   ]
  },
  {
   "cell_type": "code",
   "execution_count": 36,
   "id": "36b5575c-f502-4fe8-a2fa-aedb1856ce7e",
   "metadata": {},
   "outputs": [
    {
     "name": "stdout",
     "output_type": "stream",
     "text": [
      "This string ends with sufix\n"
     ]
    }
   ],
   "source": [
    "def ends_with_sufix(text, sufix):\n",
    "    \n",
    "    is_ends = text.endswith(sufix)\n",
    "    \n",
    "    return is_ends\n",
    "\n",
    "text = \"Hello word iam robot 8.0\"\n",
    "sufix = \"8.0\"\n",
    "result= ends_with_sufix(text, sufix)\n",
    "\n",
    "if result:\n",
    "    print(\"This string ends with sufix\")\n",
    "else:\n",
    "    print(\"This string not ending with sufix\")\n"
   ]
  },
  {
   "cell_type": "code",
   "execution_count": 37,
   "id": "714099e1-94e1-48ce-b445-4c75e78c94bc",
   "metadata": {},
   "outputs": [],
   "source": [
    "#Q17 Convert a string to title case (e.g., \"hello world\" to \"Hello World\")."
   ]
  },
  {
   "cell_type": "code",
   "execution_count": 19,
   "id": "0232e957-e3ba-4245-9a3b-4ea6d082b1e4",
   "metadata": {},
   "outputs": [
    {
     "name": "stdout",
     "output_type": "stream",
     "text": [
      "Title case : Hello Word Iam Robot 8.0\n"
     ]
    }
   ],
   "source": [
    "def string_to_title(text):\n",
    "    \n",
    "    title_case = text.title()\n",
    "   \n",
    "    return title_case\n",
    "\n",
    "text=\"hello word iam robot 8.0\"\n",
    "\n",
    "print(\"Title case :\", string_to_title(text))"
   ]
  },
  {
   "cell_type": "code",
   "execution_count": null,
   "id": "8c475c9e-d5cf-4cd7-8205-e921a060a61c",
   "metadata": {},
   "outputs": [],
   "source": [
    "#Q18 Find the longest word in a string."
   ]
  },
  {
   "cell_type": "code",
   "execution_count": 13,
   "id": "a3cd93c8-8e3c-4d5a-a86e-4953e505bbce",
   "metadata": {},
   "outputs": [
    {
     "name": "stdout",
     "output_type": "stream",
     "text": [
      "Longest word: sentence\n"
     ]
    }
   ],
   "source": [
    "def find_longest_word(text):\n",
    "    \n",
    "    words = text.split()\n",
    "    \n",
    "    longest_word = \"\"\n",
    "    max_length = 0\n",
    "    \n",
    "    for word in words:\n",
    "        \n",
    "        if len(word) > max_length:\n",
    "            max_length = len(word)\n",
    "            longest_word = word\n",
    "        \n",
    "    return longest_word\n",
    "    \n",
    "text = \"This is an example sentence with some long words.\"\n",
    "longest_word = find_longest_word(text)\n",
    "print(\"Longest word:\", longest_word)"
   ]
  },
  {
   "cell_type": "code",
   "execution_count": 8,
   "id": "8399ba87-c945-46bd-8525-124e79485467",
   "metadata": {},
   "outputs": [
    {
     "name": "stdout",
     "output_type": "stream",
     "text": [
      "Longest word: sentence\n"
     ]
    }
   ],
   "source": [
    "def find_longest_word(text):\n",
    "    \n",
    "    words = text.split()\n",
    "    \n",
    "    longest_word = \"\"\n",
    "    max_length = 0\n",
    "    \n",
    "    for word in words:\n",
    "        \n",
    "        if len(word) > max_length:\n",
    "            max_length = len(word)\n",
    "            longest_word = word\n",
    "  \n",
    "    return longest_word\n",
    "\n",
    "text = \"This is an example sentence with some long words.\"\n",
    "longest_word = find_longest_word(text)\n",
    "print(\"Longest word:\", longest_word)"
   ]
  },
  {
   "cell_type": "code",
   "execution_count": 29,
   "id": "6cd4a582-1259-439b-ab59-0fe76340e22e",
   "metadata": {},
   "outputs": [
    {
     "name": "stdout",
     "output_type": "stream",
     "text": [
      "Shortest_word : to\n"
     ]
    }
   ],
   "source": [
    "def find_shortest_word(text):\n",
    "    \n",
    "    words = text.split()\n",
    "    \n",
    "    shortest_word = None\n",
    "    min_length = float('inf')\n",
    "    \n",
    "    for word in words:\n",
    "        if len(word) < min_length:\n",
    "            min_length = len(word)\n",
    "            shortest_word = word\n",
    "            \n",
    "    return shortest_word\n",
    "\n",
    "text = \"continue to login using System/Outlook password\"\n",
    "shortest_word = find_shortest_word(text)\n",
    "print(\"Shortest_word :\" , shortest_word)"
   ]
  },
  {
   "cell_type": "code",
   "execution_count": null,
   "id": "4016a01b-a437-4f07-8603-c48034c2067e",
   "metadata": {},
   "outputs": [],
   "source": [
    "#Q22 Reverse the order of words in a string"
   ]
  },
  {
   "cell_type": "code",
   "execution_count": 4,
   "id": "9e5e0cdf-c7cb-47a5-961c-96a406e213e8",
   "metadata": {},
   "outputs": [
    {
     "name": "stdin",
     "output_type": "stream",
     "text": [
      "Enter String MANI WHERE ARE U \n"
     ]
    },
    {
     "name": "stdout",
     "output_type": "stream",
     "text": [
      "Reversed_string: U ARE WHERE MANI\n"
     ]
    }
   ],
   "source": [
    "def Reverse_the_order(string):\n",
    "    split_order = string.split()\n",
    "    reversed_word = split_order[::-1]\n",
    "\n",
    "    reversed_string = ' '.join(reversed_word)\n",
    "    \n",
    "    return reversed_string\n",
    "    \n",
    "string = input(\"Enter String\")\n",
    "reversed_string = Reverse_the_order(string)\n",
    "print(\"Reversed_string:\" , reversed_string)"
   ]
  },
  {
   "cell_type": "code",
   "execution_count": null,
   "id": "a4641cbd-a080-4382-9f7e-5dc0dee85e50",
   "metadata": {},
   "outputs": [],
   "source": [
    "#23 Check if a string is alphanumeric "
   ]
  },
  {
   "cell_type": "code",
   "execution_count": 18,
   "id": "4382a6e6-fb69-471a-ba19-1d576d69a28c",
   "metadata": {},
   "outputs": [
    {
     "name": "stdout",
     "output_type": "stream",
     "text": [
      "The string is alphanumeric.\n"
     ]
    }
   ],
   "source": [
    "def is_alphanumeric(text):\n",
    "    return text.isalnum()\n",
    "text = \"DATA\"\n",
    "result = is_alphanumeric(text)\n",
    "if result:\n",
    "    print(\"The string is alphanumeric.\")\n",
    "else:\n",
    "    print(\"The string is not alphanumeric.\")\n",
    "    \n",
    "#(In this if we are giving alpha also result was alpha numeric)"
   ]
  },
  {
   "cell_type": "code",
   "execution_count": null,
   "id": "9b97aaf1-71a6-4951-ac05-f16e526cf372",
   "metadata": {},
   "outputs": [],
   "source": [
    "#Q24 Extract all digits from a string"
   ]
  },
  {
   "cell_type": "code",
   "execution_count": 15,
   "id": "e3c1ea4d-71c0-4faf-9565-2f65bcd2ea1b",
   "metadata": {},
   "outputs": [
    {
     "name": "stdout",
     "output_type": "stream",
     "text": [
      "Extracted digits: 1234567654322221234567654321754\n"
     ]
    }
   ],
   "source": [
    "def Extract_digits(string):\n",
    "    digits = \"\"\n",
    "    \n",
    "    for char in string:\n",
    "        if char.isdigit():\n",
    "            digits += char\n",
    "            \n",
    "    return digits\n",
    "\n",
    "string = \"The string is not alphanumeric 1234567 6543222212345676543217 54ew\"\n",
    "extracted_digits = Extract_digits(string)\n",
    "print(\"Extracted digits:\", extracted_digits)"
   ]
  },
  {
   "cell_type": "code",
   "execution_count": 7,
   "id": "65849093-127c-4952-9eff-9f0c8bdc1620",
   "metadata": {},
   "outputs": [],
   "source": [
    "#Q25 Extract all alphabets from a string    "
   ]
  },
  {
   "cell_type": "code",
   "execution_count": 19,
   "id": "435cb83c-2e42-4e23-ad56-577174a6c4ab",
   "metadata": {},
   "outputs": [
    {
     "name": "stdout",
     "output_type": "stream",
     "text": [
      "Mani\n",
      "HelloWorld\n"
     ]
    }
   ],
   "source": [
    "def Extract_alphabets(string):\n",
    "    alphabets = ''.join([char for char in string if char.isalpha()])\n",
    "            \n",
    "    return alphabets\n",
    "\n",
    "string = \"Mani123\"\n",
    "result = Extract_alphabets(string)\n",
    "print(result)\n",
    "\n",
    "def extract_alphabets(input_string):\n",
    "    alphabets = ''.join([char for char in input_string if char.isalpha()])\n",
    "    return alphabets\n",
    "\n",
    "# Example input string\n",
    "input_string = \"Hello123World456\"\n",
    "result = extract_alphabets(input_string)\n",
    "print(result)"
   ]
  },
  {
   "cell_type": "code",
   "execution_count": null,
   "id": "10e4b44f-24b7-4b9c-953f-6b3fb0704aa5",
   "metadata": {},
   "outputs": [],
   "source": [
    "#Q26 Count number of upper case letters in a string "
   ]
  },
  {
   "cell_type": "code",
   "execution_count": 45,
   "id": "dfc11bc8-1e41-441e-8d38-eb46bcce6784",
   "metadata": {},
   "outputs": [
    {
     "name": "stdout",
     "output_type": "stream",
     "text": [
      "3\n"
     ]
    }
   ],
   "source": [
    "def count_num_uppercase(string):\n",
    "    upper_case = sum(1 for char in string if char.isupper())\n",
    "    return upper_case\n",
    "                                \n",
    "string = \"maniKAN\"\n",
    "result = count_num_uppercase(string)\n",
    "print(result)"
   ]
  },
  {
   "cell_type": "code",
   "execution_count": null,
   "id": "74647ca1-79e0-4fc8-bf1a-210a198b2a80",
   "metadata": {},
   "outputs": [],
   "source": [
    "#Q27 Count lower case letters in a string "
   ]
  },
  {
   "cell_type": "code",
   "execution_count": 41,
   "id": "acbc2aa9-59c8-4d0e-8aa2-ec3c4d0690ac",
   "metadata": {},
   "outputs": [
    {
     "name": "stdout",
     "output_type": "stream",
     "text": [
      "lower case : 5\n"
     ]
    }
   ],
   "source": [
    "def count_lowercase(string):\n",
    "    lower_case =sum(1 for char in string if char.islower())\n",
    "    return lower_case\n",
    "\n",
    "string = \"DWE@1234;lkjhg\"\n",
    "lower_case = count_lowercase(string)\n",
    "print(\"lower case :\" , lower_case)"
   ]
  },
  {
   "cell_type": "code",
   "execution_count": null,
   "id": "6737f7de-dd24-4cb3-90e6-7bd8d117caaf",
   "metadata": {},
   "outputs": [],
   "source": [
    "#Q28 swap ease case in string "
   ]
  },
  {
   "cell_type": "code",
   "execution_count": 46,
   "id": "4d5f7984-4b86-4089-8907-62ec926d2c93",
   "metadata": {},
   "outputs": [
    {
     "name": "stdout",
     "output_type": "stream",
     "text": [
      "SC: 123098MAAAASDFGHasdfghjhgfdsa\n"
     ]
    }
   ],
   "source": [
    "def swap_eachcase(string):\n",
    "    swap_case = string.swapcase()\n",
    "    return swap_case\n",
    "\n",
    "string = \"123098maaaasdfghASDFGHJHGFDSA\"\n",
    "swaped_case = swap_eachcase(string)\n",
    "print(\"SC:\" , swaped_case)"
   ]
  },
  {
   "cell_type": "code",
   "execution_count": 47,
   "id": "df075c9b-6d65-4dad-8ff9-483b31c3de86",
   "metadata": {},
   "outputs": [],
   "source": [
    "#Q29 Remove a specific word from a string"
   ]
  },
  {
   "cell_type": "code",
   "execution_count": 54,
   "id": "4fef3bc3-69e6-407e-9ccb-611e3d510154",
   "metadata": {},
   "outputs": [
    {
     "name": "stdin",
     "output_type": "stream",
     "text": [
      "Enter your specific word \"Delhi is the capital of India\"\n",
      "Enter specific_word is\n"
     ]
    },
    {
     "name": "stdout",
     "output_type": "stream",
     "text": [
      "New word, : \"Delhi  the capital of India\"\n"
     ]
    }
   ],
   "source": [
    "def remove_specificword(string):\n",
    "    New_word = string.replace(specific_word , \"\")\n",
    "    \n",
    "    return New_word\n",
    "\n",
    "string =input(\"Enter your specific word\")\n",
    "specific_word = input(\"Enter specific_word\")\n",
    "NewWord = remove_specificword(string)\n",
    "print(\"New word, :\" , NewWord)"
   ]
  },
  {
   "cell_type": "code",
   "execution_count": 55,
   "id": "acbe5558-8c3f-47fe-ba59-05531425670b",
   "metadata": {},
   "outputs": [],
   "source": [
    "#Q30  Check if a string is a valid email address."
   ]
  },
  {
   "cell_type": "code",
   "execution_count": 16,
   "id": "138a366c-f8b9-4943-b3f3-e6371b3929b7",
   "metadata": {},
   "outputs": [
    {
     "name": "stdout",
     "output_type": "stream",
     "text": [
      "True\n",
      "True\n"
     ]
    }
   ],
   "source": [
    "import re \n",
    "\n",
    "def valid_email(address):\n",
    "    pattern  = r'^[\\w\\.-]+@[\\w\\.-]+\\.\\w+$'\n",
    "    if re.match(pattern , address):\n",
    "        return True \n",
    "    else :\n",
    "        return False \n",
    "     \n",
    "address = \"mani.k@gmail.com\"\n",
    "address1 = \"l@l.m\"\n",
    "\n",
    "result = valid_email(address)\n",
    "result1 = valid_email(address1)\n",
    "print(result)\n",
    "print(result1)\n",
    "    "
   ]
  },
  {
   "cell_type": "code",
   "execution_count": 13,
   "id": "ff16c820-d2dd-4409-935c-da7467cdb068",
   "metadata": {},
   "outputs": [],
   "source": [
    "# Q31  Extract the username from an email address string."
   ]
  },
  {
   "cell_type": "code",
   "execution_count": 24,
   "id": "cf4d97af-4e12-4d0e-9a6c-37f49c3caa86",
   "metadata": {},
   "outputs": [
    {
     "name": "stdin",
     "output_type": "stream",
     "text": [
      "Enter Mail manikanta.kotni@gmail.com\n"
     ]
    },
    {
     "name": "stdout",
     "output_type": "stream",
     "text": [
      "Extracted email manikanta.kotni\n"
     ]
    }
   ],
   "source": [
    "def extract_name(email):\n",
    "    extracted_email = email.split('@')[0] \n",
    "    return extracted_email\n",
    "\n",
    "email = input(\"Enter Mail\")\n",
    "result = extract_name(email)\n",
    "print(\"Extracted email\", result)"
   ]
  },
  {
   "cell_type": "code",
   "execution_count": null,
   "id": "6a3302f0-b9b1-463c-b241-350300a71539",
   "metadata": {},
   "outputs": [],
   "source": [
    "#Q32 Extract the domain name from an email address string"
   ]
  },
  {
   "cell_type": "code",
   "execution_count": 25,
   "id": "6389e47f-3714-4730-8280-90811ccb666d",
   "metadata": {},
   "outputs": [
    {
     "name": "stdin",
     "output_type": "stream",
     "text": [
      "Enter mail manikanta.kotni@gmail.com\n"
     ]
    },
    {
     "name": "stdout",
     "output_type": "stream",
     "text": [
      "Extracted_domain gmail.com\n"
     ]
    }
   ],
   "source": [
    "def extract_domain(mail):\n",
    "    Extracted_domain = mail.split('@')[1]\n",
    "    return  Extracted_domain\n",
    "    \n",
    "mail = input(\"Enter mail\")\n",
    "result = extract_domain(mail)\n",
    "print(\"Extracted_domain\", result)"
   ]
  },
  {
   "cell_type": "code",
   "execution_count": 26,
   "id": "861559d9-e8ba-4a0f-8c6d-e028972bbbb8",
   "metadata": {},
   "outputs": [],
   "source": [
    "#Q33 Replace multiple spaces in a string with a single space"
   ]
  },
  {
   "cell_type": "code",
   "execution_count": 21,
   "id": "167fd241-3e96-4939-af18-3575ab85c272",
   "metadata": {},
   "outputs": [
    {
     "name": "stdin",
     "output_type": "stream",
     "text": [
      "Enter string Celebrities with autism who are changing our perceptions\n"
     ]
    },
    {
     "name": "stdout",
     "output_type": "stream",
     "text": [
      "Celebrities with autism who are changing our perceptions\n"
     ]
    }
   ],
   "source": [
    "def removemulspace(string):\n",
    "    removed = ' '.join(string.split())\n",
    "    return removed\n",
    "\n",
    "string = input(\"Enter string\")\n",
    "result = removemulspace(string)\n",
    "print(result)"
   ]
  },
  {
   "cell_type": "code",
   "execution_count": 22,
   "id": "6d8670d9-3d0d-4481-8abb-37df542ebb8d",
   "metadata": {},
   "outputs": [],
   "source": [
    "#Q34 Check if a string is a valid URL"
   ]
  },
  {
   "cell_type": "code",
   "execution_count": 3,
   "id": "3d8569f6-4bbc-4ffe-9dfc-fc1ae8646bab",
   "metadata": {},
   "outputs": [
    {
     "name": "stdout",
     "output_type": "stream",
     "text": [
      "True\n",
      "False\n",
      "True\n",
      "True\n"
     ]
    }
   ],
   "source": [
    "from urllib.parse import urlparse \n",
    "\n",
    "def Validate_(url):\n",
    "    \n",
    "    try:\n",
    "        result = urlparse(url)\n",
    "        return all([result.scheme , result.netloc])\n",
    "    except ValueError:                               \n",
    "        return False\n",
    "\n",
    "url1 = \"https://green-chef-kjnnw.pwskills.app/lab/tree/work/%2220th_August_String_Based.ipynb\"\n",
    "url2 = \"://green-chef-kjnnw.pwskills.app/lab/tree/work/%2220th_August_String_Based.ipynb\"\n",
    "url3 = \"https://green-chef-kjnnw.pwskills.app/lab/tree/work/%2220th_August_String_Based.ipynb\"\n",
    "url4 = \"https://www.bing.com/search?pglt=41&q=match+url+regex&cvid=5c151f286f264853a247270e17ed3408&aqs=edge.1.69i57j0l8.6985j0j1&FORM=ANNTA1&PC=HCTS\"\n",
    "\n",
    "result1 = Validate_(url1)\n",
    "result2 = Validate_(url2)\n",
    "result3 = Validate_(url3)\n",
    "result4 = Validate_(url4)\n",
    "\n",
    "print(result1)\n",
    "print(result2)\n",
    "print(result3)\n",
    "print(result4)\n",
    "\n"
   ]
  },
  {
   "cell_type": "code",
   "execution_count": null,
   "id": "69d6411f-97e4-40e1-a8c8-47af08a62b8e",
   "metadata": {},
   "outputs": [],
   "source": [
    "#Q35  Extract the protocol (http or https) from a URL string."
   ]
  },
  {
   "cell_type": "code",
   "execution_count": 99,
   "id": "815ba1eb-a495-46e6-b5f7-c53c00c913f4",
   "metadata": {},
   "outputs": [
    {
     "name": "stdout",
     "output_type": "stream",
     "text": [
      "protocol6 :  https\n",
      "protocol7 :  http\n",
      "protocol8 :  ftp\n"
     ]
    }
   ],
   "source": [
    "def extract_http(url):\n",
    "    protocol_end = url.find(\"://\")\n",
    "    if protocol_end != -1:\n",
    "        protocol = url[:protocol_end]\n",
    "        return protocol\n",
    "    else:\n",
    "        return None\n",
    "    \n",
    "url6 = \"https://www.example.com\"\n",
    "url7= \"http://google.com\"\n",
    "url8 = \"ftp://ftp.example.com\"\n",
    "\n",
    "protocol6 = extract_http(url6)\n",
    "protocol7 = extract_http(url7)\n",
    "protocol8 = extract_http(url8)\n",
    "\n",
    "\n",
    "print(\"protocol6 : \" , protocol6)\n",
    "print(\"protocol7 : \" , protocol7)\n",
    "print(\"protocol8 : \" , protocol8)\n"
   ]
  },
  {
   "cell_type": "code",
   "execution_count": 2,
   "id": "e48b7a55-d850-4ce3-a2b1-7d19de1032df",
   "metadata": {},
   "outputs": [],
   "source": [
    "#Q36 Find the frequency of each character in a string"
   ]
  },
  {
   "cell_type": "code",
   "execution_count": 29,
   "id": "142e2899-fd16-4235-9538-20e3372665be",
   "metadata": {
    "tags": []
   },
   "outputs": [
    {
     "name": "stdin",
     "output_type": "stream",
     "text": [
      "Enter String \"at some level\"\n"
     ]
    },
    {
     "name": "stdout",
     "output_type": "stream",
     "text": [
      "frequency : '\"' , letter' : 2'\n",
      "frequency : 'a' , letter' : 1'\n",
      "frequency : 't' , letter' : 1'\n",
      "frequency : ' ' , letter' : 2'\n",
      "frequency : 's' , letter' : 1'\n",
      "frequency : 'o' , letter' : 1'\n",
      "frequency : 'm' , letter' : 1'\n",
      "frequency : 'e' , letter' : 3'\n",
      "frequency : 'l' , letter' : 2'\n",
      "frequency : 'v' , letter' : 1'\n"
     ]
    }
   ],
   "source": [
    "def freq_char(string):\n",
    "    frequency = {}\n",
    "    \n",
    "    for char in string:\n",
    "        if char in frequency:\n",
    "            frequency[char] += 1\n",
    "        else :\n",
    "            frequency[char] = 1 \n",
    "    return frequency \n",
    "\n",
    "string = input(\"Enter String\")\n",
    "freq_C = freq_char(string)\n",
    "for char, freq in freq_C.items():\n",
    "    print(f\"frequency : '{char}' , letter' : {freq}'\")"
   ]
  },
  {
   "cell_type": "code",
   "execution_count": 30,
   "id": "5f06c514-f36b-405a-a76e-194489df84dc",
   "metadata": {},
   "outputs": [],
   "source": [
    "#37 Remove all punctuation from a string"
   ]
  },
  {
   "cell_type": "code",
   "execution_count": 44,
   "id": "dadcb02e-4a0e-46d8-b747-eb997cfcf587",
   "metadata": {},
   "outputs": [
    {
     "name": "stdout",
     "output_type": "stream",
     "text": [
      "original string : Hello thom's , How are you?\n",
      "cleanedstring : Hello thoms  How are you\n"
     ]
    }
   ],
   "source": [
    "import string\n",
    "\n",
    "def remove_punt(sstring):\n",
    "    \n",
    "    translator = str.maketrans(\"\", \"\", string.punctuation)\n",
    "    \n",
    "    cleaned_string = sstring.translate(translator)\n",
    "    \n",
    "    return cleaned_string\n",
    "\n",
    "sstring= \"Hello thom's , How are you?\"\n",
    "\n",
    "cleaned_string = remove_punt(sstring)\n",
    "\n",
    "print(\"original string :\" , sstring)\n",
    "print(\"cleanedstring :\" , cleaned_string)"
   ]
  },
  {
   "cell_type": "code",
   "execution_count": 45,
   "id": "a91fb40f-b10d-4c77-ad43-f6838d811382",
   "metadata": {},
   "outputs": [],
   "source": [
    "#38 Check if a string contains only digits"
   ]
  },
  {
   "cell_type": "code",
   "execution_count": 62,
   "id": "666c4676-409d-41ec-b402-ccc856e3ed0c",
   "metadata": {},
   "outputs": [
    {
     "name": "stdout",
     "output_type": "stream",
     "text": [
      "'12345' contains only digits: True\n",
      "'Hello123' contains only digits: False\n",
      "'456.789' contains only digits: False\n"
     ]
    }
   ],
   "source": [
    "def contains_only_digits(string):\n",
    "    \n",
    "    return string.isdigit()\n",
    "\n",
    "# Example strings\n",
    "string1 = \"12345\"\n",
    "string2 = \"Hello123\"\n",
    "string3 = \"456.789\"\n",
    "\n",
    "# Check if strings contain only digits\n",
    "result1 = contains_only_digits(string1)\n",
    "result2 = contains_only_digits(string2)\n",
    "result3 = contains_only_digits(string3)\n",
    "\n",
    "# Print the results\n",
    "print(f\"'{string1}' contains only digits:\", result1)\n",
    "print(f\"'{string2}' contains only digits:\", result2)\n",
    "print(f\"'{string3}' contains only digits:\", result3)"
   ]
  },
  {
   "cell_type": "code",
   "execution_count": 63,
   "id": "49e24d18-a302-4d78-ae4a-37c0f61528ca",
   "metadata": {},
   "outputs": [],
   "source": [
    "#Q39 Check if a string contains only alphabets."
   ]
  },
  {
   "cell_type": "code",
   "execution_count": 66,
   "id": "0073c053-e270-4ece-a9a5-7bbf6a43d87f",
   "metadata": {},
   "outputs": [
    {
     "name": "stdout",
     "output_type": "stream",
     "text": [
      "'12345' contains only alpha: False\n",
      "'Helloooooooooo' contains only alpha: True\n",
      "'456.789' contains only alpha: False\n"
     ]
    }
   ],
   "source": [
    "def contains_only_alpha(string):\n",
    "    \n",
    "    return string.isalpha()\n",
    "\n",
    "# Example strings\n",
    "string1 = \"12345\"\n",
    "string2 = \"Helloooooooooo\"\n",
    "string3 = \"456.789\"\n",
    "\n",
    "# Check if strings contain only digits\n",
    "result1 = contains_only_alpha(string1)\n",
    "result2 = contains_only_alpha(string2)\n",
    "result3 = contains_only_alpha(string3)\n",
    "\n",
    "# Print the results\n",
    "print(f\"'{string1}' contains only alpha:\", result1)\n",
    "print(f\"'{string2}' contains only alpha:\", result2)\n",
    "print(f\"'{string3}' contains only alpha:\", result3)"
   ]
  },
  {
   "cell_type": "code",
   "execution_count": 67,
   "id": "88cd0299-5bb2-41b9-8ad0-200378f33145",
   "metadata": {},
   "outputs": [],
   "source": [
    "#Q40 Convert a string to a list of characters"
   ]
  },
  {
   "cell_type": "code",
   "execution_count": 89,
   "id": "2a7845b5-2307-4a4a-ba62-81f0d0b7cceb",
   "metadata": {},
   "outputs": [
    {
     "name": "stdout",
     "output_type": "stream",
     "text": [
      "['A', 't', ' ', 's', 'o', 'm', 'e', ' ', 'l', 'e', 'v', 'e', 'l', ',', ' ', 't', 'h', 'e', 'r', 'e', ' ', 'w', 'i', 'l', 'l', ' ', 'b', 'e', ' ', 'a', ' ', 'n', 'e', 'e', 'd', ' ', 'f', 'o', 'r', '/', 'w', 'h', 'i', 'l', 'e', ' ', 't', 'o', ' ', 'i', 't', 'e', 'r', 'a', 't', 'e', ' ', 't', 'h', 'e', ' ', 's', 't', 'r', 'i', 'n', 'g', '.', ' ', 'A', 'n', 'd', ' ', 'a', 'n', ' ', 'i', 'f', ' ', 's', 't', 'a', 't', 'e', 'm', 'e', 'n', 't', ' ', 't', 'o', ' ', 'c', 'o', 'u', 'n', 't', ' ', 'a', ' ', 's', 'i', 'n', 'g', 'l', 'e', ' ', 'c', 'h', 'a', 'r', 'a', 'c', 't', 'e', 'r', ' ']\n"
     ]
    }
   ],
   "source": [
    "def convert_string_to_list(string):\n",
    "    listed = list(string)\n",
    "    return listed\n",
    "\n",
    "string = \"At some level, there will be a need for/while to iterate the string. And an if statement to count a single character \"\n",
    "\n",
    "result = convert_string_to_list(string)\n",
    "\n",
    "print(result)"
   ]
  },
  {
   "cell_type": "code",
   "execution_count": 90,
   "id": "d0ee1ebb-2b53-463a-bbff-51507e7738c9",
   "metadata": {},
   "outputs": [],
   "source": [
    "#Q41 Check if two strings are anagrams."
   ]
  },
  {
   "cell_type": "code",
   "execution_count": 1,
   "id": "eee6bdd0-1c0d-4b61-a7b9-75d1f4035914",
   "metadata": {},
   "outputs": [
    {
     "name": "stdout",
     "output_type": "stream",
     "text": [
      " 'Silent' and 'listen' are : True\n",
      " 'signature' and 'atruesign' are : True\n"
     ]
    }
   ],
   "source": [
    "def check2string_anagram(Firststring , Secondstring):\n",
    "    Firststring = Firststring.replace(\" \" , \" \").lower()\n",
    "    Secondstring = Secondstring.replace(\" \" , \" \").lower()\n",
    "\n",
    "    return sorted(Firststring) == sorted(Secondstring)\n",
    "        \n",
    "Firststring = \"Silent\"\n",
    "Secondstring = \"listen\"\n",
    "Three = \"signature\"\n",
    "Four = \"atruesign\"\n",
    "\n",
    "result1 = check2string_anagram(Firststring , Secondstring)\n",
    "result2 = check2string_anagram(Three , Four)\n",
    "\n",
    "print(f\" '{Firststring}' and '{Secondstring}' are :\", result1)\n",
    "print(f\" '{Three}' and '{Four}' are :\", result2)"
   ]
  },
  {
   "cell_type": "code",
   "execution_count": 31,
   "id": "96756024-74c8-48b2-b65a-de3bce5c4a18",
   "metadata": {},
   "outputs": [],
   "source": [
    "#Q42 Encode a string using a Caesar cipher"
   ]
  },
  {
   "cell_type": "code",
   "execution_count": 42,
   "id": "7705a6dd-8280-4153-b537-bedf7390beaa",
   "metadata": {},
   "outputs": [
    {
     "name": "stdout",
     "output_type": "stream",
     "text": [
      "Encoded text: ehoor, zruog!\n"
     ]
    }
   ],
   "source": [
    "def caesar_cipher(text, shift):\n",
    "    encoded_text = \"\"\n",
    "    for char in text:\n",
    "        if char.isalpha():\n",
    "            encoded_char = chr((ord(char) + shift - ord('a')) % 26 + ord('a'))\n",
    "        else:\n",
    "            encoded_char = char\n",
    "        encoded_text += encoded_char\n",
    "    return encoded_text\n",
    "text = \"Hello, world!\"\n",
    "shift = 3\n",
    "encoded_text = caesar_cipher(text, shift)\n",
    "print(\"Encoded text:\", encoded_text)"
   ]
  },
  {
   "cell_type": "code",
   "execution_count": 76,
   "id": "de35ed5a-7f74-4488-8555-a2dbed841221",
   "metadata": {},
   "outputs": [
    {
     "name": "stdout",
     "output_type": "stream",
     "text": [
      "Encoded text: dgnnq\n"
     ]
    }
   ],
   "source": [
    "def ceaser_chhiper(text,shift):\n",
    "    endoced_text = \"\"\n",
    "    for x in text:\n",
    "        if x.isalpha():\n",
    "            endoced_x = chr((ord(x) + shift- ord('a')) %26 + ord('a'))\n",
    "        else:\n",
    "            endoced_text = x          \n",
    "        endoced_text += endoced_x\n",
    "    return endoced_text \n",
    "\n",
    "text = \"Hello\"\n",
    "shift = 2\n",
    "endoced_text  = ceaser_chhiper(text,shift)\n",
    "print(\"Encoded text:\", endoced_text)"
   ]
  },
  {
   "cell_type": "code",
   "execution_count": 66,
   "id": "7843bfad-6a42-4a16-8496-face330378b4",
   "metadata": {},
   "outputs": [],
   "source": [
    "#43 Decode a Caesar cipher encoded string"
   ]
  },
  {
   "cell_type": "code",
   "execution_count": 79,
   "id": "f00f99fc-ec59-4b01-851a-3de8038ed7c1",
   "metadata": {},
   "outputs": [
    {
     "name": "stdout",
     "output_type": "stream",
     "text": [
      "Decoded text: bello\n"
     ]
    }
   ],
   "source": [
    "def caesar_cipher_decoder(text, shift):\n",
    "    decoded_text = \"\"\n",
    "    for char in text:\n",
    "        if char.isalpha():\n",
    "            decoded_char = chr((ord(char) - shift - ord('a')) % 26 + ord('a'))\n",
    "        else:\n",
    "            decoded_char = char\n",
    "        decoded_text += decoded_char\n",
    "    return decoded_text\n",
    "text = \"dgnnq\"\n",
    "shift = 2\n",
    "decoded_text = caesar_cipher_decoder(text, shift)\n",
    "print(\"Decoded text:\", decoded_text)"
   ]
  },
  {
   "cell_type": "code",
   "execution_count": 30,
   "id": "6de1c17f-13c2-496c-9c2c-dd1004b821a7",
   "metadata": {},
   "outputs": [],
   "source": [
    "#44 Find the most frequent word in a string"
   ]
  },
  {
   "cell_type": "code",
   "execution_count": 31,
   "id": "fb9fbda2-ddbf-4953-a9d9-e150b9c4f5c5",
   "metadata": {},
   "outputs": [
    {
     "name": "stdout",
     "output_type": "stream",
     "text": [
      "mostfrequent_word: y\n"
     ]
    }
   ],
   "source": [
    "import re \n",
    "from collections import Counter \n",
    "\n",
    "def most_frequent_word(string):\n",
    "    cleanedstring = re.sub(r'[^\\w\\s]','',string).lower()\n",
    "    words = cleaned_string.split()\n",
    "    word_counter =  Counter(words)\n",
    "    most_common_word = word_counter.most_common(1)[0][0]\n",
    "    return most_common_word\n",
    "    \n",
    "string = \"on going on to on y y y y y y y y y y y y y y  Delhi on Im Im Im Im Im  August on 15th\"\n",
    "result = mostfrequent_word(string)\n",
    "print (\"mostfrequent_word:\",result)"
   ]
  },
  {
   "cell_type": "code",
   "execution_count": 32,
   "id": "1736f7c5-6fb8-48d5-a457-f50c2e6669c5",
   "metadata": {},
   "outputs": [],
   "source": [
    "#45 Find all unique words in a string. "
   ]
  },
  {
   "cell_type": "code",
   "execution_count": 50,
   "id": "945d982c-2d0c-4096-a94d-efe621ac63a2",
   "metadata": {},
   "outputs": [
    {
     "name": "stdout",
     "output_type": "stream",
     "text": [
      "['such', 'working', 'with', 'data', 'dictionaries.', 'as', 'Variables', 'various', 'and', 'Data', 'integers,', 'types,', 'Defining', 'variables', 'strings,', 'Types:', 'lists,']\n"
     ]
    }
   ],
   "source": [
    "def find_unique_words(string):\n",
    "    words = string.split()\n",
    "    unique_words = set()\n",
    "    \n",
    "    for word in words: \n",
    "        unique_words.add(word)\n",
    "        \n",
    "        unique_words_list = list(unique_words)\n",
    "    return unique_words_list\n",
    "\n",
    "string = \"Variables and Data Types: Defining variables and working with various data types, such as integers, strings, lists, and dictionaries.\"\n",
    "result = find_unique_words(string)\n",
    "print (result) "
   ]
  },
  {
   "cell_type": "code",
   "execution_count": 53,
   "id": "6b4e5cfd-8cbd-4aa0-a991-0e42e7ffd314",
   "metadata": {},
   "outputs": [],
   "source": [
    "# 46 Count the number of syllables in a string."
   ]
  },
  {
   "cell_type": "code",
   "execution_count": 14,
   "id": "3f44a0d4-0452-4d99-ac64-98132d6d994e",
   "metadata": {},
   "outputs": [
    {
     "name": "stdout",
     "output_type": "stream",
     "text": [
      " hello has  2 syllabel\n",
      " magic has  2 syllabel\n",
      " banana has  2 syllabel\n"
     ]
    }
   ],
   "source": [
    "import re \n",
    "\n",
    "def Count_syllabels(string):\n",
    "    vowel_group = re.findall(r'[aeiou]+' , string, re.IGNORECASE)\n",
    "    return len(vowel_group)\n",
    "\n",
    "string1 = \"hello\"\n",
    "string2 = \"magic\"\n",
    "string3 = \"banana\"\n",
    "    \n",
    "result1 = Count_syllabels(string1)\n",
    "result2 = Count_syllabels(string2)\n",
    "result3 = Count_syllabels(string2)\n",
    "\n",
    "print (f\" {string1} has  {result1} syllabel\")\n",
    "print (f\" {string2} has  {result2} syllabel\")\n",
    "print (f\" {string3} has  {result3} syllabel\")"
   ]
  },
  {
   "cell_type": "code",
   "execution_count": null,
   "id": "8ea120d9-d7a8-42d7-84c3-7d113f5f1c7a",
   "metadata": {},
   "outputs": [],
   "source": [
    "# 47 Check if a string contains any special characters."
   ]
  },
  {
   "cell_type": "code",
   "execution_count": 20,
   "id": "e0163653-bb39-45ea-b739-1251732ccb42",
   "metadata": {},
   "outputs": [
    {
     "name": "stdout",
     "output_type": "stream",
     "text": [
      " hello#$%^& has  5 special charaters\n",
      " magic#$%^& has  5 special charaters\n",
      " banana(*&^ has  4 special charaters\n",
      " banana has  0 special charaters\n"
     ]
    }
   ],
   "source": [
    "import re \n",
    "def check_Specialcharacter(string):\n",
    "    pattern = re.findall(r'[!@#$%^&*()_+{}\\[\\]:;<>,.?~\\\\/]' , string )\n",
    "    return len(pattern)\n",
    "\n",
    "string1 = \"hello#$%^&\"\n",
    "string2 = \"magic#$%^&\"\n",
    "string3 = \"banana(*&^\"\n",
    "string4 = \"banana\"\n",
    "\n",
    "result1 = check_Specialcharacter(string1)\n",
    "result2 = check_Specialcharacter(string2)\n",
    "result3 = check_Specialcharacter(string3)\n",
    "result4 = check_Specialcharacter(string4)\n",
    "\n",
    "print (f\" {string1} has  {result1} special charaters\")\n",
    "print (f\" {string2} has  {result2} special charaters\")\n",
    "print (f\" {string3} has  {result3} special charaters\")\n",
    "print (f\" {string4} has  {result4} special charaters\")"
   ]
  },
  {
   "cell_type": "code",
   "execution_count": 21,
   "id": "663c9b08-e44a-44a1-b160-d20e705fe172",
   "metadata": {},
   "outputs": [],
   "source": [
    "# 48 Remove the nth word from a string"
   ]
  },
  {
   "cell_type": "code",
   "execution_count": 3,
   "id": "1ce09027-e9ff-4473-abfa-7213be63b04f",
   "metadata": {},
   "outputs": [
    {
     "name": "stdout",
     "output_type": "stream",
     "text": [
      "Original string: a unit of pronunciation having one vowel sound, with or without surrounding consonants, forming the whole or a part of a word; for example, there are two syllables in water and three in\n",
      "Nth word: having\n",
      "Modified string: a unit of pronunciation one vowel sound, with or without surrounding consonants, forming the whole or a part of a word; for example, there are two syllables in water and three in\n"
     ]
    }
   ],
   "source": [
    "def removen_thword(input_string, nth_word):\n",
    "    words = input_string.split()\n",
    "    if 0 <= nth_word < len(words):\n",
    "        removed_nth_word = words.pop(nth_word)\n",
    "        modified_string = ' '.join(words)  \n",
    "        return removed_nth_word, modified_string\n",
    "    else:\n",
    "        return \"Invalid nth_word index\", None\n",
    "input_string = \"a unit of pronunciation having one vowel sound, with or without surrounding consonants, forming the whole or a part of a word; for example, there are two syllables in water and three in\"\n",
    "nth_word = 4  \n",
    "\n",
    "result , modified_string= removen_thword(input_string, nth_word)\n",
    "\n",
    "print(f\"Original string: {input_string}\")\n",
    "print(f\"Nth word: {result}\")\n",
    "print(f\"Modified string: {modified_string}\")\n"
   ]
  },
  {
   "cell_type": "code",
   "execution_count": null,
   "id": "89b3f736-92ee-4447-96da-35d4d253ffa8",
   "metadata": {},
   "outputs": [],
   "source": [
    "#  49 Insert a word at the nth position in a string."
   ]
  },
  {
   "cell_type": "code",
   "execution_count": 64,
   "id": "39b38d5b-0806-47ff-83f4-2741b8b6ab50",
   "metadata": {},
   "outputs": [
    {
     "name": "stdout",
     "output_type": "stream",
     "text": [
      "Original string: a unit of pronunciation having one vowel sound, with or without surrounding consonants, forming the whole or a part of a word; for example, there are two syllables in water and three in\n",
      "Modified string: raaja\n",
      "Nth word: a unit raaja of pronunciation having one vowel sound, with or without surrounding consonants, forming the whole or a part of a word; for example, there are two syllables in water and three in\n"
     ]
    }
   ],
   "source": [
    "def insert_nthword(string, word2insert , n_word):\n",
    "    words = string.split()\n",
    "    \n",
    "    if 0 <= n_word < len(words):\n",
    "        words.insert(n_word,word2insert)\n",
    "        modified1_string = ' '.join(words)\n",
    "        removed_nth_word = words.pop(n_word)\n",
    "        return removed_nth_word, modified1_string , word2insert\n",
    "    else:\n",
    "        return \"Invalid n_word index\", None , None \n",
    "    \n",
    "string = \"a unit of pronunciation having one vowel sound, with or without surrounding consonants, forming the whole or a part of a word; for example, there are two syllables in water and three in\"\n",
    "n_word = 2 \n",
    "word2insert = \"raaja\"\n",
    "\n",
    "result , modified1_string ,inserted_word = insert_nthword(string, word2insert, n_word)\n",
    "\n",
    "print(f\"Original string: {string}\")\n",
    "print(f\"Modified string: {inserted_word}\")\n",
    "print(f\"Nth word: {modified1_string}\")\n"
   ]
  },
  {
   "cell_type": "code",
   "execution_count": null,
   "id": "b2aaa944-ce45-4274-9ae9-bc3064260454",
   "metadata": {},
   "outputs": [],
   "source": [
    "# 50 Convert a CSV string to a list of lists.¶"
   ]
  },
  {
   "cell_type": "code",
   "execution_count": null,
   "id": "179adee9-5d0c-4914-a58c-7a60d2682261",
   "metadata": {},
   "outputs": [],
   "source": [
    "def csv_string_to_list(csv_string):\n",
    "    \n",
    "    lines = csv_string.split('\\n')\n",
    "    \n",
    "    result = []\n",
    "    \n",
    "    for line in lines:\n",
    "        fields = lines.split(',')\n",
    "        \n",
    "        result.append(fields)\n",
    "        \n",
    "csv_data = \"Name, Age, Country\\nJohn, 25, USA\\nAlice, 30, Canada\\nBob, 22, UK\""
   ]
  },
  {
   "cell_type": "code",
   "execution_count": 82,
   "id": "32d797a7-54cc-4fcb-a0d0-ddd83e0c94a1",
   "metadata": {},
   "outputs": [
    {
     "name": "stdout",
     "output_type": "stream",
     "text": [
      "['Name', ' Age', ' Country']\n",
      "['John', ' 25', ' USA']\n",
      "['Alice', ' 30', ' Canada']\n",
      "['Bob', ' 22', ' UK']\n"
     ]
    }
   ],
   "source": [
    "def csv_string_to_list(csv_string):\n",
    "    lines = csv_string.split('\\n')\n",
    "    result = []\n",
    "    for line in lines:\n",
    "        fields = line.split(',')\n",
    "        result.append(fields)\n",
    "    return result\n",
    "csv_data = \"Name, Age, Country\\nJohn, 25, USA\\nAlice, 30, Canada\\nBob, 22, UK\"\n",
    "csv_string = csv_string_to_list(csv_data)\n",
    "for row in csv_string:\n",
    "    print(row)"
   ]
  },
  {
   "cell_type": "code",
   "execution_count": 1,
   "id": "cb8366d1-8138-476b-a70e-f1371f14face",
   "metadata": {},
   "outputs": [],
   "source": [
    "# 1. Create a list with integers from 1 to 10."
   ]
  },
  {
   "cell_type": "code",
   "execution_count": 5,
   "id": "9dcfb8bf-f4bc-4d52-b726-1a43c5629e7e",
   "metadata": {},
   "outputs": [
    {
     "data": {
      "text/plain": [
       "[1, 2, 3, 4, 5, 6, 7, 8, 9, 10]"
      ]
     },
     "execution_count": 5,
     "metadata": {},
     "output_type": "execute_result"
    }
   ],
   "source": [
    "list(range(1,11))"
   ]
  },
  {
   "cell_type": "code",
   "execution_count": 6,
   "id": "277b30a3-674d-4dd5-bb4e-3a00fa7bcfbf",
   "metadata": {},
   "outputs": [],
   "source": [
    "#1 find the lenght of the list without using the len() function"
   ]
  },
  {
   "cell_type": "code",
   "execution_count": 7,
   "id": "2d7ce4b1-02a1-4b50-87fd-c03eef86173d",
   "metadata": {},
   "outputs": [
    {
     "data": {
      "text/plain": [
       "10"
      ]
     },
     "execution_count": 7,
     "metadata": {},
     "output_type": "execute_result"
    }
   ],
   "source": [
    "len(list(range(1,11)))"
   ]
  },
  {
   "cell_type": "code",
   "execution_count": 22,
   "id": "a2cc43b6-74b5-469f-86c9-059d674aaec8",
   "metadata": {},
   "outputs": [
    {
     "data": {
      "text/plain": [
       "[1, 2, 3, 4, 5, 6, 7, 8, 9, 10]"
      ]
     },
     "execution_count": 22,
     "metadata": {},
     "output_type": "execute_result"
    }
   ],
   "source": [
    "# Using for loop : \n",
    "list_ = [i for i in range(1,11)]\n",
    "\n",
    "list_"
   ]
  },
  {
   "cell_type": "code",
   "execution_count": null,
   "id": "81c71599-4e0c-42ab-b25a-52d360833e1a",
   "metadata": {},
   "outputs": [],
   "source": [
    "#2 find the lenght of the list without using the len() function"
   ]
  },
  {
   "cell_type": "code",
   "execution_count": 36,
   "id": "da47de11-3458-495f-b112-d8b94c283003",
   "metadata": {},
   "outputs": [
    {
     "name": "stdout",
     "output_type": "stream",
     "text": [
      "10\n"
     ]
    }
   ],
   "source": [
    "def length_of(list_1):\n",
    "    count = 0 \n",
    "    for i in list_1:\n",
    "        if i in (list_1):\n",
    "            count += 1 \n",
    "    return count\n",
    "\n",
    "print(length_of(list_1))\n",
    "\n",
    "list_1 = [1, 2, 3, 4, 5, 6, 7, 8, 9, 10]"
   ]
  },
  {
   "cell_type": "code",
   "execution_count": 56,
   "id": "91823b8e-7f28-4b80-baa2-226e3a3dab45",
   "metadata": {},
   "outputs": [
    {
     "name": "stdout",
     "output_type": "stream",
     "text": [
      "Updated list [2, 3, 4, 5, 6, 7, 8, 9, 10, 11]\n"
     ]
    }
   ],
   "source": [
    "#3 Append an element to the end of a list.\n",
    "list_11 = [ 2, 3, 4, 5, 6, 7, 8, 9, 10]\n",
    "x = 11 \n",
    "newlist = list_11.append(x)\n",
    "print(\"Updated list\",list_11)"
   ]
  },
  {
   "cell_type": "code",
   "execution_count": null,
   "id": "8d548772-3322-44c7-80fc-f9c07f66d375",
   "metadata": {},
   "outputs": [],
   "source": [
    "#4 Remove an element from a list by its value."
   ]
  },
  {
   "cell_type": "code",
   "execution_count": 3,
   "id": "7eb1cb19-1410-414b-99d6-3908c783d8ea",
   "metadata": {},
   "outputs": [
    {
     "name": "stdout",
     "output_type": "stream",
     "text": [
      "Updated list [2, 3, 4, 5, 7, 8, 9, 10]\n"
     ]
    }
   ],
   "source": [
    "list_11 = [ 2, 3, 4, 5, 6, 7, 8, 9, 10]\n",
    "x = 4\n",
    "newlist = list_11.pop(x)\n",
    "print(\"Updated list\",list_11)"
   ]
  },
  {
   "cell_type": "code",
   "execution_count": null,
   "id": "7309ab89-4cc8-40c0-854c-0355dfa22a2c",
   "metadata": {},
   "outputs": [],
   "source": [
    "# Q 7. Check if an element exists in a list."
   ]
  },
  {
   "cell_type": "code",
   "execution_count": 5,
   "id": "49f4c80f-cd04-4bca-a763-aa927de81d0b",
   "metadata": {},
   "outputs": [
    {
     "name": "stdin",
     "output_type": "stream",
     "text": [
      "Enter you element:: 2\n"
     ]
    },
    {
     "name": "stdout",
     "output_type": "stream",
     "text": [
      "Element avalible in list_2\n"
     ]
    }
   ],
   "source": [
    "def check_Element(list_2,element):\n",
    "    for i in list_2:\n",
    "        if i == element :\n",
    "            return \"Element avalible in list_2\"\n",
    "        else : \n",
    "            return \"Element not avalible in list_2\"\n",
    "list_2 = [ 2, 3, 4, 5, 6, 7, 8, 9, 10, 2, 3, 4, 5, 6, 7, 8, 9, 10]\n",
    "element = int(input(\"Enter you element::\"))\n",
    "result = check_Element(list_2,element)\n",
    "print (result)"
   ]
  },
  {
   "cell_type": "code",
   "execution_count": 6,
   "id": "f44c9b20-31e0-44c3-ba45-41fa9e255e12",
   "metadata": {},
   "outputs": [],
   "source": [
    "# Q 8 Find the index of the first occurrence of an element in a list.¶"
   ]
  },
  {
   "cell_type": "code",
   "execution_count": 8,
   "id": "d537ae31-6a0b-4a8d-bd6b-66a5a87e765c",
   "metadata": {},
   "outputs": [
    {
     "name": "stdout",
     "output_type": "stream",
     "text": [
      "2\n"
     ]
    }
   ],
   "source": [
    "list_3 = [ 2, 3, 4, 5, 6, 7, 8, 9, 10, 2, 3, 4, 5, 6, 7, 8, 9, 10]\n",
    "element_to_find  = 4\n",
    "index = list_3.index(element_to_find)\n",
    "print(f'{index}')"
   ]
  },
  {
   "cell_type": "code",
   "execution_count": null,
   "id": "97be4a2f-a9b9-444d-9641-de98d840dce8",
   "metadata": {},
   "outputs": [],
   "source": [
    "# Q 9 Find the count of the first occurrence of an element in a list.¶"
   ]
  },
  {
   "cell_type": "code",
   "execution_count": 11,
   "id": "2d2b98e2-8cb1-4668-a950-0c61b7fd0d8f",
   "metadata": {},
   "outputs": [
    {
     "name": "stdout",
     "output_type": "stream",
     "text": [
      "2\n"
     ]
    }
   ],
   "source": [
    "list_3 = [ 2, 3, 4, 5, 6, 7, 8, 9, 10, 2, 3, 4, 5, 6, 7, 8, 9, 10]\n",
    "element_to_find  = 4\n",
    "count = list_3.count(element_to_find)\n",
    "print(f'{count}')"
   ]
  },
  {
   "cell_type": "code",
   "execution_count": 12,
   "id": "84027952-4159-458d-a514-dba30094c3f3",
   "metadata": {},
   "outputs": [],
   "source": [
    "# Q 11 Reverse the order of elements in a list.¶"
   ]
  },
  {
   "cell_type": "code",
   "execution_count": 14,
   "id": "fdfc4950-9729-4a32-bdef-f8c9e04ffb76",
   "metadata": {},
   "outputs": [
    {
     "data": {
      "text/plain": [
       "[10, 9, 8, 7, 6, 5, 4, 3, 2, 10, 9, 8, 7, 6, 5, 4, 3, 2]"
      ]
     },
     "execution_count": 14,
     "metadata": {},
     "output_type": "execute_result"
    }
   ],
   "source": [
    "list_3 = [ 2, 3, 4, 5, 6, 7, 8, 9, 10, 2, 3, 4, 5, 6, 7, 8, 9, 10]\n",
    "list_3[::-1]"
   ]
  },
  {
   "cell_type": "code",
   "execution_count": 79,
   "id": "46fd779a-0ab4-4572-892f-2284e87f0751",
   "metadata": {},
   "outputs": [],
   "source": [
    "# Q 12. Sort a list in ascending order."
   ]
  },
  {
   "cell_type": "code",
   "execution_count": 80,
   "id": "21315f2d-eeae-4dcc-b32f-50b4e3f1b5d8",
   "metadata": {},
   "outputs": [
    {
     "name": "stdout",
     "output_type": "stream",
     "text": [
      " list in ascending order.:: [2, 2, 3, 3, 4, 4, 5, 5, 6, 6, 7, 7, 8, 8, 9, 9, 10, 10]\n"
     ]
    }
   ],
   "source": [
    "list_4 = [10, 9, 8, 7, 6, 5, 4, 3, 2, 10, 9, 8, 7, 6, 5, 4, 3, 2]\n",
    "list_4.sort()\n",
    "print(f\" list in ascending order.::\" , list_4)"
   ]
  },
  {
   "cell_type": "code",
   "execution_count": 81,
   "id": "b1373ee2-a481-44ee-960a-2b6b6f2e745e",
   "metadata": {},
   "outputs": [],
   "source": [
    "# Q 13 Sort a list in descending order."
   ]
  },
  {
   "cell_type": "code",
   "execution_count": 82,
   "id": "6098d8a1-3345-4342-844f-b7393c5ac2de",
   "metadata": {},
   "outputs": [
    {
     "name": "stdout",
     "output_type": "stream",
     "text": [
      "list in descending order. :: [10, 10, 9, 9, 8, 8, 7, 7, 6, 6, 5, 5, 4, 4, 3, 3, 2, 2]\n"
     ]
    }
   ],
   "source": [
    "list_5 = [10, 9, 8, 7, 6, 5, 4, 3, 2, 10, 9, 8, 7, 6, 5, 4, 3, 2]\n",
    "list_5.sort(reverse=True)\n",
    "print(f\"list in descending order. ::\", list_5)"
   ]
  },
  {
   "cell_type": "code",
   "execution_count": 83,
   "id": "446288d9-7c9f-4d3a-928e-b6d94e822796",
   "metadata": {},
   "outputs": [],
   "source": [
    "# Q 14 Create a list of even numbers from 1 to 20."
   ]
  },
  {
   "cell_type": "code",
   "execution_count": 84,
   "id": "7c57ee29-09ec-4267-aa23-ca84c9a6b889",
   "metadata": {},
   "outputs": [
    {
     "name": "stdout",
     "output_type": "stream",
     "text": [
      "list of even numbers :: [2, 4, 6, 8, 10, 12, 14, 16, 18, 20]\n"
     ]
    }
   ],
   "source": [
    "evenlist = [i for i in range(2,21,2)]\n",
    "print (f\"list of even numbers ::\" , evenlist)"
   ]
  },
  {
   "cell_type": "code",
   "execution_count": 85,
   "id": "51ed6906-ea1d-44b8-8183-4a260f3477cc",
   "metadata": {},
   "outputs": [],
   "source": [
    "# Q 15 Create a list of odd numbers from 1 to 20."
   ]
  },
  {
   "cell_type": "code",
   "execution_count": 86,
   "id": "52e5fbd2-17b7-4c09-9b2a-1918666b6ddd",
   "metadata": {},
   "outputs": [
    {
     "name": "stdout",
     "output_type": "stream",
     "text": [
      "list of odd numbers :: [1, 3, 5, 7, 9, 11, 13, 15, 17, 19]\n"
     ]
    }
   ],
   "source": [
    "oddlist = [i for i in range(1,20,2)]\n",
    "print (f\"list of odd numbers ::\", oddlist)"
   ]
  },
  {
   "cell_type": "code",
   "execution_count": 87,
   "id": "2e11c83b-59a5-4bf2-a44b-97c45f45816b",
   "metadata": {},
   "outputs": [],
   "source": [
    "# Q 16 Find the sum of all elements in a list."
   ]
  },
  {
   "cell_type": "code",
   "execution_count": 88,
   "id": "e7894415-1e43-470d-a0ad-fec3aca19c81",
   "metadata": {},
   "outputs": [
    {
     "name": "stdout",
     "output_type": "stream",
     "text": [
      "Sum of all elements :: 108\n"
     ]
    }
   ],
   "source": [
    "sumlist = [10, 10, 9, 9, 8, 8, 7, 7, 6, 6, 5, 5, 4, 4, 3, 3, 2, 2]\n",
    "print(f\"Sum of all elements ::\" , sum(sumlist))"
   ]
  },
  {
   "cell_type": "code",
   "execution_count": 89,
   "id": "ebf15024-4763-42b9-9803-58e848abfdc4",
   "metadata": {},
   "outputs": [],
   "source": [
    "# Q 17 Find the maximum value in a list."
   ]
  },
  {
   "cell_type": "code",
   "execution_count": 90,
   "id": "aed7d56f-2482-4387-88a6-322380433970",
   "metadata": {},
   "outputs": [
    {
     "name": "stdout",
     "output_type": "stream",
     "text": [
      "max of all elements :: 10\n"
     ]
    }
   ],
   "source": [
    "maxoflist = [10, 10, 9, 9, 8, 8, 7, 7, 6, 6, 5, 5, 4, 4, 3, 3, 2, 2]\n",
    "print(f\"max of all elements ::\" , max(maxoflist)) "
   ]
  },
  {
   "cell_type": "code",
   "execution_count": 91,
   "id": "1b30d147-bae8-4749-8fa2-4666878c072d",
   "metadata": {},
   "outputs": [],
   "source": [
    "# Q 18. Find the minimum value in a list."
   ]
  },
  {
   "cell_type": "code",
   "execution_count": 93,
   "id": "27b7af0a-a631-4753-8dc7-d4711ed82d70",
   "metadata": {},
   "outputs": [
    {
     "name": "stdout",
     "output_type": "stream",
     "text": [
      "max of all elements :: 10\n"
     ]
    }
   ],
   "source": [
    "minoflist = [10, 10, 9, 9, 8, 8, 7, 7, 6, 6, 5, 5, 4, 4, 3, 3, 2, 2]\n",
    "print(f\"max of all elements ::\" , max(minoflist)) "
   ]
  },
  {
   "cell_type": "code",
   "execution_count": null,
   "id": "4378c1c2-adca-47d2-8153-387ddce95cbf",
   "metadata": {},
   "outputs": [],
   "source": [
    "# Q 19. Create a list of squares of numbers from 1 to 10."
   ]
  },
  {
   "cell_type": "code",
   "execution_count": 107,
   "id": "90d21361-4e2e-494e-8866-50cce59577c7",
   "metadata": {},
   "outputs": [
    {
     "name": "stdout",
     "output_type": "stream",
     "text": [
      "[0, 1, 4, 9, 16, 25, 36, 49, 64, 81]\n"
     ]
    }
   ],
   "source": [
    "sqaureofnum= [i**2 for i in range(10) ]\n",
    "print (sqaureofnum)"
   ]
  },
  {
   "cell_type": "code",
   "execution_count": 108,
   "id": "89e497f2-9e0a-4c61-b239-bc4463aecf24",
   "metadata": {},
   "outputs": [],
   "source": [
    "# Q 20 Create a list of random numbers."
   ]
  },
  {
   "cell_type": "code",
   "execution_count": 151,
   "id": "7fa9a494-ea23-4e1e-a458-7f385bb88a08",
   "metadata": {},
   "outputs": [
    {
     "name": "stdout",
     "output_type": "stream",
     "text": [
      "List of random integers: [24, 84, 15, 48, 5, 78, 2, 39, 36, 56]\n"
     ]
    }
   ],
   "source": [
    "import random\n",
    "random_integers = [random.randint(1, 100) for _ in range(10)]\n",
    "print(\"List of random integers:\", random_integers)"
   ]
  },
  {
   "cell_type": "code",
   "execution_count": 110,
   "id": "61c7a53d-e54c-4f19-8043-2d983bf01700",
   "metadata": {},
   "outputs": [],
   "source": [
    "# Q 21 Remove duplicates from a list."
   ]
  },
  {
   "cell_type": "code",
   "execution_count": 117,
   "id": "db9bfaa5-4731-4e6e-9045-1efde2fc11bf",
   "metadata": {},
   "outputs": [
    {
     "name": "stdout",
     "output_type": "stream",
     "text": [
      "Removed Duplicates from the list :: {2, 3, 4, 5, 6, 7, 8, 9, 10}\n"
     ]
    }
   ],
   "source": [
    "print (f\"Removed Duplicates from the list ::\",set([10, 10, 9, 9, 8, 8, 7, 7, 6, 6, 5, 5, 4, 4, 3, 3, 2, 2]))"
   ]
  },
  {
   "cell_type": "code",
   "execution_count": 119,
   "id": "d91d413b-68b7-4c93-bf3e-f6f13faa66b5",
   "metadata": {},
   "outputs": [],
   "source": [
    "# Q 22 Find the common elements between two lists.¶"
   ]
  },
  {
   "cell_type": "code",
   "execution_count": 137,
   "id": "db8982d0-379e-4c52-8cd0-bd449ef87bf3",
   "metadata": {},
   "outputs": [
    {
     "name": "stdout",
     "output_type": "stream",
     "text": [
      "[7]\n"
     ]
    }
   ],
   "source": [
    "l1 = [2, 3, 4, 5,  5, 6, 7]\n",
    "l2 = [7, 8, 9, 10]\n",
    "list_common = [x for x in l1 if x in l2 ]\n",
    "print (list_common)"
   ]
  },
  {
   "cell_type": "code",
   "execution_count": 138,
   "id": "4ce0bc9d-5607-4f91-a1e0-3f7137c8e223",
   "metadata": {},
   "outputs": [],
   "source": [
    "# Q 23 Find the difference between two lists."
   ]
  },
  {
   "cell_type": "code",
   "execution_count": 143,
   "id": "01106deb-4899-4191-b689-402dabf6d30b",
   "metadata": {},
   "outputs": [
    {
     "name": "stdout",
     "output_type": "stream",
     "text": [
      "Difference between lists: [20, 10]\n"
     ]
    }
   ],
   "source": [
    "# Example lists\n",
    "list1 = [10, 20, 30, 40, 50]\n",
    "list2 = [30, 40, 50, 60, 70]\n",
    "\n",
    "# Find the difference between lists using the difference() method\n",
    "difference = list(set(list1).difference(list2))\n",
    "\n",
    "# Print the difference\n",
    "print(\"Difference between lists:\", difference)\n"
   ]
  },
  {
   "cell_type": "code",
   "execution_count": 144,
   "id": "c2dd2302-749e-41b0-af7e-fa78d32744c6",
   "metadata": {},
   "outputs": [
    {
     "name": "stdout",
     "output_type": "stream",
     "text": [
      "[10, 20, 30, 40, 50, 30, 40, 50, 60, 70]\n"
     ]
    }
   ],
   "source": [
    "# Q 23 Merge two lists.\n",
    "\n",
    "list1 = [10, 20, 30, 40, 50]\n",
    "list2 = [30, 40, 50, 60, 70]\n",
    "list3=list1+list2\n",
    "print(list3)"
   ]
  },
  {
   "cell_type": "code",
   "execution_count": 145,
   "id": "69d52316-9483-490a-89e0-018fa171a80c",
   "metadata": {},
   "outputs": [],
   "source": [
    "# Q 24 Multiply all elements in a list by 2."
   ]
  },
  {
   "cell_type": "code",
   "execution_count": 154,
   "id": "3babb270-49b8-4c20-b65b-0178d2aff390",
   "metadata": {},
   "outputs": [
    {
     "name": "stdout",
     "output_type": "stream",
     "text": [
      "[20, 40, 60, 80, 100]\n"
     ]
    }
   ],
   "source": [
    "list4 = [10, 20, 30, 40, 50]\n",
    "Multipliedby2_list = [i*2 for i in (list4)]\n",
    "print(Multipliedby2_list)"
   ]
  },
  {
   "cell_type": "code",
   "execution_count": 155,
   "id": "5f996fca-2bbc-43d5-90d0-a406a4c27d5b",
   "metadata": {},
   "outputs": [],
   "source": [
    "# Q 25 Filter out all even numbers from a list."
   ]
  },
  {
   "cell_type": "code",
   "execution_count": 72,
   "id": "1ed9eeb3-c67c-46a4-a2fc-66a03be2b5a8",
   "metadata": {},
   "outputs": [
    {
     "name": "stdout",
     "output_type": "stream",
     "text": [
      "Filtered list (odd numbers): [1, 3, 5, 7, 9]\n"
     ]
    }
   ],
   "source": [
    "y_list = [10, 20, 15, 25, 30, 40, 35, 45]\n",
    "filtered_list = [x for x in my_list if x % 2 != 0]\n",
    "print(\"Filtered list (odd numbers):\", filtered_list)"
   ]
  },
  {
   "cell_type": "code",
   "execution_count": 73,
   "id": "a1bc49ee-9b14-4ef3-abaf-d60557a2d89a",
   "metadata": {},
   "outputs": [],
   "source": [
    "# Q 26 Convert a list of strings to a list of integers."
   ]
  },
  {
   "cell_type": "code",
   "execution_count": 74,
   "id": "84679887-66b2-4d23-b3d7-35bdb593121a",
   "metadata": {},
   "outputs": [
    {
     "name": "stdout",
     "output_type": "stream",
     "text": [
      "[1, 2, 3, 4, 5, 6, 7, 8, 9]\n"
     ]
    }
   ],
   "source": [
    "string1 = \"123456789\"\n",
    "stringss = [int(x) for x in string1]\n",
    "print(stringss)"
   ]
  },
  {
   "cell_type": "code",
   "execution_count": 75,
   "id": "9f3970f5-27ba-42a9-ac8b-41826a2e4bfb",
   "metadata": {},
   "outputs": [],
   "source": [
    "# Q 27 Convert a list of integers to a list of strings."
   ]
  },
  {
   "cell_type": "code",
   "execution_count": 76,
   "id": "356701f9-7abb-495d-a80d-a9ec391c1e85",
   "metadata": {},
   "outputs": [
    {
     "name": "stdout",
     "output_type": "stream",
     "text": [
      "['1', '2', '3', '4', '5', '6', '7', '8', '9']\n"
     ]
    }
   ],
   "source": [
    "string = \"123456789\"\n",
    "strings = [str(x) for x in string]\n",
    "print(strings)"
   ]
  },
  {
   "cell_type": "code",
   "execution_count": 77,
   "id": "5052592d-959a-4279-9989-959cfd5a0b67",
   "metadata": {},
   "outputs": [],
   "source": [
    "# 28 Flatten a nested list."
   ]
  },
  {
   "cell_type": "code",
   "execution_count": 89,
   "id": "7f023685-ff3e-4987-a5c7-1a6d62afb1fe",
   "metadata": {},
   "outputs": [
    {
     "name": "stdout",
     "output_type": "stream",
     "text": [
      "nested list [[21, 22], [23, 24], [25, 26], [27, 28]]\n",
      "Flatten lists [21, 23, 25, 27]    [22, 24, 26, 28]\n"
     ]
    }
   ],
   "source": [
    "import itertools\n",
    "nested_list = [[21, 22], [23, 24], [25, 26], [27, 28]]\n",
    "print (\"nested list\", str(nested_list))\n",
    "l1,l2 = list(itertools.zip_longest(*nested_list))\n",
    "l1,l2=list(l1),list(l2)\n",
    "print(\"Flatten lists\", str(l1), \"  \", str(l2))\n"
   ]
  },
  {
   "cell_type": "code",
   "execution_count": 79,
   "id": "75a817b5-2c0e-4a5a-8d9e-9dc950d8680f",
   "metadata": {},
   "outputs": [],
   "source": [
    "# 29. Create a list of the first 10 Fibonacci numbers."
   ]
  },
  {
   "cell_type": "code",
   "execution_count": 80,
   "id": "3b5d60d6-b0e5-43b1-a8df-344b2a51ad6d",
   "metadata": {},
   "outputs": [],
   "source": [
    "# # # # # # # #"
   ]
  },
  {
   "cell_type": "code",
   "execution_count": 81,
   "id": "aa2afebb-1f3e-4a08-af9d-a4163a73bc16",
   "metadata": {},
   "outputs": [],
   "source": [
    "# 33. Create a list of prime numbers up to 50."
   ]
  },
  {
   "cell_type": "code",
   "execution_count": 82,
   "id": "29e0a685-8e60-453d-ac59-d475bf687679",
   "metadata": {},
   "outputs": [],
   "source": [
    "# a whole number greater than 1 that cannot be exactly divided by any whole number other than itself and 1 (e.g. 2, 3, 5, 7, 11)."
   ]
  },
  {
   "cell_type": "code",
   "execution_count": 83,
   "id": "7b43cecd-4639-481b-9878-64387d8388cd",
   "metadata": {},
   "outputs": [
    {
     "name": "stdout",
     "output_type": "stream",
     "text": [
      "list of prime numbers up to 50. [2, 3, 5, 7, 11, 13, 17, 19, 23, 29, 31, 37, 41, 43, 47]\n"
     ]
    }
   ],
   "source": [
    "def is_prime(num):\n",
    "    if num > 1:\n",
    "        for i in range(2, int(num**0.5) + 1):\n",
    "            if num % i == 0:\n",
    "                return False\n",
    "        return True\n",
    "    return False\n",
    "\n",
    "def prime_numbers_in_range(limit):\n",
    "    primes = []\n",
    "    for n in range(2, limit):\n",
    "        if is_prime(n):\n",
    "            primes.append(n)\n",
    "    return primes\n",
    "\n",
    "list2 = range(0, 50, 1)\n",
    "result = prime_numbers_in_range(50)\n",
    "print(f\"list of prime numbers up to 50.\",result)\n"
   ]
  },
  {
   "cell_type": "code",
   "execution_count": 84,
   "id": "91b93625-c438-4f44-89c1-d0c121d8adff",
   "metadata": {},
   "outputs": [],
   "source": [
    "# 34. Split a list into chunks of size n."
   ]
  },
  {
   "cell_type": "code",
   "execution_count": 85,
   "id": "087cda10-5340-48e2-9ee5-b7dd5276db83",
   "metadata": {},
   "outputs": [
    {
     "name": "stdout",
     "output_type": "stream",
     "text": [
      "list into chunks of size n.: [[1, 2, 3], [4, 5, 6], [7, 8, 9], [10]]\n"
     ]
    }
   ],
   "source": [
    "def chunk_list(input_list, chunk_size):\n",
    "    \"\"\"Split a list into chunks of size chunk_size.\"\"\"\n",
    "    return [input_list[i:i + chunk_size] for i in range(0, len(input_list), chunk_size)]\n",
    "\n",
    "# Example usage:\n",
    "my_list = [1, 2, 3, 4, 5, 6, 7, 8, 9, 10]\n",
    "chunk_size = 3\n",
    "\n",
    "result = chunk_list(my_list, chunk_size)\n",
    "print(f\"list into chunks of size n.:\",result)\n"
   ]
  },
  {
   "cell_type": "code",
   "execution_count": 86,
   "id": "dd2da62d-ca8a-4a26-81f5-0edcc0040df1",
   "metadata": {},
   "outputs": [],
   "source": [
    "# 35 Find the second largest number in a list."
   ]
  },
  {
   "cell_type": "code",
   "execution_count": 22,
   "id": "68556dfd-4c9b-4491-a90c-db3daff4e8df",
   "metadata": {},
   "outputs": [
    {
     "name": "stdout",
     "output_type": "stream",
     "text": [
      "Second largest number: 14\n"
     ]
    }
   ],
   "source": [
    "list1 = [1, 2, 3, 4, 5, 6, 7, 8, 9, 10,11,12,13,14,15]\n",
    "\n",
    "sorted_list = sorted(set(list1))\n",
    "\n",
    "if len(sorted_list) >= 2:\n",
    "    second_largest = sorted_list[-2]\n",
    "    print(\"Second largest number:\", second_largest)\n",
    "else:\n",
    "    print(\"The list does not contain enough elements.\")"
   ]
  },
  {
   "cell_type": "code",
   "execution_count": 23,
   "id": "7818d4c5-7a16-4971-887e-be792f5bc07c",
   "metadata": {},
   "outputs": [],
   "source": [
    "# 36 Replace every element in a list with its square."
   ]
  },
  {
   "cell_type": "code",
   "execution_count": 24,
   "id": "0aec63d7-002c-4282-9a5d-bb9249792018",
   "metadata": {},
   "outputs": [
    {
     "name": "stdout",
     "output_type": "stream",
     "text": [
      "[1, 4, 9, 16, 25, 36, 49, 64, 81, 100]\n"
     ]
    }
   ],
   "source": [
    "list2 = [1, 2, 3, 4, 5, 6, 7, 8, 9, 10]\n",
    "\n",
    "list2moidfied= [x**2 for x in list2 ]\n",
    "print (list2moidfied)"
   ]
  },
  {
   "cell_type": "code",
   "execution_count": null,
   "id": "e133930e-a236-456e-a344-4d5048431e8e",
   "metadata": {},
   "outputs": [],
   "source": [
    "# 37 Convert a list to a dictionary where list elements become keys and their indices become values."
   ]
  },
  {
   "cell_type": "code",
   "execution_count": 31,
   "id": "615968ea-5e21-40c4-89dd-06165f17f289",
   "metadata": {},
   "outputs": [
    {
     "name": "stdout",
     "output_type": "stream",
     "text": [
      "Converted dictionary: {'apple': 0, 'ball': 1, 'cudtord_apple': 2, 'Dryfruit': 3, 'fish': 4}\n"
     ]
    }
   ],
   "source": [
    "list3 = ['apple', 'ball', 'cudtord_apple' , 'Dryfruit' , 'fish']\n",
    "\n",
    "list3Converted = {element : index for index , element in enumerate(list3)}\n",
    "print(\"Converted dictionary:\" , list3Converted)"
   ]
  },
  {
   "cell_type": "code",
   "execution_count": null,
   "id": "63b984b4-d303-4d40-8080-1ef95878c005",
   "metadata": {},
   "outputs": [],
   "source": [
    "# 38 Shuffle the elements of a list randomly"
   ]
  },
  {
   "cell_type": "code",
   "execution_count": 52,
   "id": "32308746-8221-43ba-9a28-43289912bb62",
   "metadata": {},
   "outputs": [
    {
     "name": "stdout",
     "output_type": "stream",
     "text": [
      "[[2, 3, 1, 4, 5, 8, 9, 10, 7, 6]]\n"
     ]
    }
   ],
   "source": [
    "import random\n",
    "list2 = [1, 2, 3, 4, 5, 6, 7, 8, 9, 10]\n",
    "shuffeldlist = [random.sample(list2, len(list2))]\n",
    "print(shuffeldlist)"
   ]
  },
  {
   "cell_type": "code",
   "execution_count": null,
   "id": "0a606e6e-6585-418a-ad4f-4f81eca7e4dd",
   "metadata": {},
   "outputs": [],
   "source": [
    "# 39 Create a list of the first 10 factorial numbers."
   ]
  },
  {
   "cell_type": "code",
   "execution_count": 66,
   "id": "f53d39f7-51cc-4415-8e2c-1d214c330117",
   "metadata": {},
   "outputs": [
    {
     "name": "stdout",
     "output_type": "stream",
     "text": [
      "factorial of 5: 120\n",
      "factorial in the range of 10 : [1, 1, 2, 6, 24, 120, 720, 5040, 40320, 362880]\n"
     ]
    }
   ],
   "source": [
    "def factorial(n):\n",
    "    if n == 0 or n==1 :\n",
    "        return 1 \n",
    "    else :\n",
    "        return n*factorial(n-1)\n",
    "\n",
    "n = 5 \n",
    "result = factorial(n)\n",
    "print(f\"factorial of 5:\", result)\n",
    "\n",
    "\n",
    "factorial_numbers = [factorial(i) for i in range(10)]\n",
    "print(f\"factorial in the range of 10 :\" , factorial_numbers)"
   ]
  },
  {
   "cell_type": "code",
   "execution_count": null,
   "id": "978a1ef0-2942-4cc6-97a9-ee21087c0366",
   "metadata": {},
   "outputs": [],
   "source": [
    "# 40 Check if two lists have at least one element in common."
   ]
  },
  {
   "cell_type": "code",
   "execution_count": 79,
   "id": "1d69ef7f-a836-4cc8-b45d-d42b9ae50526",
   "metadata": {},
   "outputs": [
    {
     "name": "stdout",
     "output_type": "stream",
     "text": [
      "Both list does not have common elements\n"
     ]
    }
   ],
   "source": [
    "def checkcommonelements(list5,list6):\n",
    "    for i in list5:\n",
    "        if i in list6:\n",
    "            return True \n",
    "        else :\n",
    "            return False \n",
    "list5 = [1,2,3,4,5,6,7]\n",
    "list6 = [8,6]\n",
    "result  = checkcommonelements(list5,list6)\n",
    "if checkcommonelements(list5,list6):\n",
    "    print(\"Both list have common elements\")\n",
    "else :\n",
    "    print(\"Both list does not have common elements\")\n"
   ]
  },
  {
   "cell_type": "code",
   "execution_count": 71,
   "id": "be2f6d6a-a57c-4323-bc56-f5f96a8d0a12",
   "metadata": {},
   "outputs": [],
   "source": [
    "# 41. Remove all elements from a list."
   ]
  },
  {
   "cell_type": "code",
   "execution_count": 89,
   "id": "651ef2ee-637b-45e6-b312-a16aa480a889",
   "metadata": {},
   "outputs": [
    {
     "name": "stdout",
     "output_type": "stream",
     "text": [
      "[]\n"
     ]
    }
   ],
   "source": [
    "list5 = [1,2,3,4,5,6,7]\n",
    "list5.clear()\n",
    "print(list5)"
   ]
  },
  {
   "cell_type": "code",
   "execution_count": null,
   "id": "edb75f83-55f0-4ce3-929e-a5ed6f170cdb",
   "metadata": {},
   "outputs": [],
   "source": [
    "# 42.Replace negative numbers in a list with 0."
   ]
  },
  {
   "cell_type": "code",
   "execution_count": 12,
   "id": "1b846c7b-81d3-4374-a4c0-bf51027c8748",
   "metadata": {},
   "outputs": [
    {
     "name": "stdout",
     "output_type": "stream",
     "text": [
      "[1, 2, 0, 4, 5, 0, 7]\n"
     ]
    }
   ],
   "source": [
    "list6 = [1,2,-3,4,5,-6,7]\n",
    "for i in range(len(list6)):\n",
    "    if list6[i]<0:\n",
    "        list6[i] = 0 \n",
    "print(list6)"
   ]
  },
  {
   "cell_type": "code",
   "execution_count": 1,
   "id": "131bd1d2-4c66-4d99-a450-50f20607746f",
   "metadata": {},
   "outputs": [],
   "source": [
    "# 43  Convert a string into a list of words"
   ]
  },
  {
   "cell_type": "code",
   "execution_count": 3,
   "id": "d41454fc-eb0b-4cfe-8585-293724141420",
   "metadata": {},
   "outputs": [
    {
     "data": {
      "text/plain": [
       "['Converted', 'a', 'string', 'into', 'a', 'list', 'of', 'words']"
      ]
     },
     "execution_count": 3,
     "metadata": {},
     "output_type": "execute_result"
    }
   ],
   "source": [
    "STRING_ = \"Converted a string into a list of words\"\n",
    "STRING_.split()"
   ]
  },
  {
   "cell_type": "code",
   "execution_count": null,
   "id": "371a405c-a52e-4b5f-94c7-6d993d69e15c",
   "metadata": {},
   "outputs": [],
   "source": [
    "# 44 Convert a list of words into a string."
   ]
  },
  {
   "cell_type": "code",
   "execution_count": 18,
   "id": "6052c7a3-b900-43c4-a7f3-1e67db1f594a",
   "metadata": {},
   "outputs": [
    {
     "data": {
      "text/plain": [
       "'Converted a string into a list of words'"
      ]
     },
     "execution_count": 18,
     "metadata": {},
     "output_type": "execute_result"
    }
   ],
   "source": [
    "TO_STRING_ = ['Converted', 'a', 'string', 'into', 'a', 'list', 'of', 'words']\n",
    "' '.join(TO_STRING_)"
   ]
  },
  {
   "cell_type": "code",
   "execution_count": 46,
   "id": "47786a31-da0f-4582-9269-f774ea02d827",
   "metadata": {},
   "outputs": [],
   "source": [
    "# 45 Create a list of the first n powers of 2.¶"
   ]
  },
  {
   "cell_type": "code",
   "execution_count": 47,
   "id": "275142fc-e4a6-49c6-ad7f-1ab3fcca3dc9",
   "metadata": {},
   "outputs": [
    {
     "data": {
      "text/plain": [
       "[1, 2, 4, 8]"
      ]
     },
     "execution_count": 47,
     "metadata": {},
     "output_type": "execute_result"
    }
   ],
   "source": [
    "n = 4\n",
    "list0fpowers  =[ 2**i for i in range(n)]\n",
    "list0fpowers"
   ]
  },
  {
   "cell_type": "code",
   "execution_count": 48,
   "id": "23e6042b-3e7c-4fbc-a031-90b21bea0df6",
   "metadata": {},
   "outputs": [],
   "source": [
    "# 46 Find the longest string in a list of strings."
   ]
  },
  {
   "cell_type": "code",
   "execution_count": 67,
   "id": "53548f26-3dda-4992-b969-8f4c9a8d5916",
   "metadata": {},
   "outputs": [
    {
     "name": "stdout",
     "output_type": "stream",
     "text": [
      "Converted\n"
     ]
    }
   ],
   "source": [
    "def longeststring(listofstring):\n",
    "    longestring = \" \"\n",
    "    for x in listofstring:\n",
    "        if len((x)) >= len(listofstring):\n",
    "            longestring = x\n",
    "    return longestring\n",
    "    \n",
    "        \n",
    "listofstring = ['Converted', 'a', 'string', 'into', 'a', 'list', 'of', 'words']       \n",
    "result = longeststring(listofstring)\n",
    "print(result)"
   ]
  },
  {
   "cell_type": "code",
   "execution_count": 68,
   "id": "d5cb925a-73a7-4528-8d99-27de16527b4c",
   "metadata": {},
   "outputs": [],
   "source": [
    "# 47 Find the shortest string in a list of strings"
   ]
  },
  {
   "cell_type": "code",
   "execution_count": 77,
   "id": "c9605fec-457e-4eed-9cc2-907e6094b6eb",
   "metadata": {},
   "outputs": [
    {
     "name": "stdout",
     "output_type": "stream",
     "text": [
      "abc\n"
     ]
    }
   ],
   "source": [
    "def shorteststring(listofstring1):\n",
    "    shortstring = listofstring1[0]\n",
    "    \n",
    "    for y in listofstring1:\n",
    "        if len((y)) < len(shortstring):\n",
    "            shortstring = y\n",
    "    return shortstring\n",
    "    \n",
    "        \n",
    "listofstring1 = ['Converted', 'abc']       \n",
    "result = shorteststring(listofstring1)\n",
    "print(result)"
   ]
  },
  {
   "cell_type": "code",
   "execution_count": 78,
   "id": "1f7148d6-83b9-4c79-afef-39a28205116a",
   "metadata": {},
   "outputs": [],
   "source": [
    "# 48  Create a list of the first n triangular numbers "
   ]
  },
  {
   "cell_type": "code",
   "execution_count": 23,
   "id": "5d375503-fb66-4610-9721-ac5cabbdca1c",
   "metadata": {},
   "outputs": [
    {
     "name": "stdout",
     "output_type": "stream",
     "text": [
      "[1, 3, 6, 10, 15]\n"
     ]
    }
   ],
   "source": [
    "def listoftriangle(n):\n",
    "    listtriangle = []\n",
    "   \n",
    "    for i in range(1,n+1):\n",
    "        listtriangl = (i*(i+1)//2)\n",
    "        listtriangle.append(listtriangl)\n",
    "    \n",
    "    return listtriangle\n",
    "\n",
    "result = listoftriangle(5)\n",
    "print (result)"
   ]
  },
  {
   "cell_type": "code",
   "execution_count": 25,
   "id": "e1d80fff-0d80-4ebd-b081-7d23a2e8f4b7",
   "metadata": {},
   "outputs": [],
   "source": [
    "# 49 Check if a list contains another list as a subsequence."
   ]
  },
  {
   "cell_type": "code",
   "execution_count": 32,
   "id": "28803f26-ac5b-4e4c-8d64-ef1191babe1a",
   "metadata": {},
   "outputs": [
    {
     "name": "stdout",
     "output_type": "stream",
     "text": [
      "Main list contains the subsequence.\n"
     ]
    }
   ],
   "source": [
    "def checksublist(subsequence,mainlist):\n",
    "    sublist_index = 0 \n",
    "    for element in mainlist:\n",
    "        if element == subsequence[sublist_index]:\n",
    "            sublist_index +=1\n",
    "            if sublist_index == len(subsequence):\n",
    "                return True \n",
    "    return False \n",
    "\n",
    "mainlist = [31, 23, 23, 34, 25, 62, 27, 82, 92, 210]\n",
    "subsequence = [23]\n",
    "\n",
    "if checksublist(subsequence,mainlist):\n",
    "    print(\"Main list contains the subsequence.\")\n",
    "else:\n",
    "    print(\"Main list does not contain the subsequence.\")"
   ]
  },
  {
   "cell_type": "code",
   "execution_count": null,
   "id": "de6d66b2-b618-4b53-9115-6a827bd96629",
   "metadata": {},
   "outputs": [],
   "source": [
    "# 50. Swap two elements in a list by their indices."
   ]
  },
  {
   "cell_type": "code",
   "execution_count": 37,
   "id": "db794158-a8af-40cf-b929-78bde5a8fb8d",
   "metadata": {},
   "outputs": [],
   "source": [
    "list1 = [31, 23, 23, 34, 25, 62, 27, 82, 92, 210]\n",
    "index_1 = 4 \n",
    "index_2 = 9 \n",
    "         \n",
    "list_2 = list1[index_1]\n",
    "list1[index_1] = list1[index_2]\n",
    "list1[index_2] = list_2"
   ]
  },
  {
   "cell_type": "code",
   "execution_count": 68,
   "id": "e16f8ffc-7b9e-4750-803c-9eaa4fd072bb",
   "metadata": {},
   "outputs": [
    {
     "data": {
      "text/plain": [
       "[31, 23, 23, 34, 210, 62, 27, 82, 92, 25]"
      ]
     },
     "execution_count": 68,
     "metadata": {},
     "output_type": "execute_result"
    }
   ],
   "source": [
    "# Swaped list !!\n",
    "list1"
   ]
  },
  {
   "cell_type": "code",
   "execution_count": 69,
   "id": "419816d6-ae68-4dd1-a859-058a2bf1e92a",
   "metadata": {},
   "outputs": [],
   "source": [
    "#### Tuple Based problems "
   ]
  },
  {
   "cell_type": "code",
   "execution_count": 70,
   "id": "c2918682-915a-4e4c-b319-8ae0f61d8e68",
   "metadata": {},
   "outputs": [],
   "source": [
    "# 1.Create a tuple with integers from 1 to 5."
   ]
  },
  {
   "cell_type": "code",
   "execution_count": 76,
   "id": "55d4d80d-3469-4b28-830b-c1971c5bec7c",
   "metadata": {},
   "outputs": [
    {
     "data": {
      "text/plain": [
       "(1, 2, 3, 4, 5)"
      ]
     },
     "execution_count": 76,
     "metadata": {},
     "output_type": "execute_result"
    }
   ],
   "source": [
    "tuple(range(1,6))"
   ]
  },
  {
   "cell_type": "code",
   "execution_count": 72,
   "id": "044bf747-6833-4d31-be95-483db4b51f99",
   "metadata": {},
   "outputs": [],
   "source": [
    "#2 Access the third element of a tuple."
   ]
  },
  {
   "cell_type": "code",
   "execution_count": 73,
   "id": "681d3753-3570-43e1-a0b9-1937fb83ac0d",
   "metadata": {},
   "outputs": [
    {
     "data": {
      "text/plain": [
       "3"
      ]
     },
     "execution_count": 73,
     "metadata": {},
     "output_type": "execute_result"
    }
   ],
   "source": [
    "x = tuple(range(1,6))\n",
    "x[2]"
   ]
  },
  {
   "cell_type": "code",
   "execution_count": 74,
   "id": "4181b76d-509a-4485-815b-35c385af605f",
   "metadata": {},
   "outputs": [],
   "source": [
    "# 3. Find the length of a tuple without using the len() function."
   ]
  },
  {
   "cell_type": "code",
   "execution_count": 4,
   "id": "3cfb1fe6-c325-4511-82aa-e1ed67b24e52",
   "metadata": {},
   "outputs": [
    {
     "name": "stdout",
     "output_type": "stream",
     "text": [
      "5\n"
     ]
    }
   ],
   "source": [
    "def lenoftuple(my_tuple):\n",
    "    length = 0 \n",
    "    for i in my_tuple:\n",
    "        if i in my_tuple:\n",
    "            length += 1\n",
    "    return length \n",
    "        \n",
    "my_tuple = (10, 20, 30, 40, 50)\n",
    "result = lenoftuple(my_tuple)\n",
    "print (result)"
   ]
  },
  {
   "cell_type": "code",
   "execution_count": null,
   "id": "360e74d1-5b40-4b8c-853f-c766b7308193",
   "metadata": {},
   "outputs": [],
   "source": [
    "#4. Count the occurrences of an element in a tuple.¶"
   ]
  },
  {
   "cell_type": "code",
   "execution_count": 32,
   "id": "e685578d-a8fc-4886-a31d-d986aef347d8",
   "metadata": {},
   "outputs": [
    {
     "name": "stdout",
     "output_type": "stream",
     "text": [
      "3\n"
     ]
    }
   ],
   "source": [
    "def count(targateelement , my_tuple1):\n",
    "    count = 0 \n",
    "    for element in my_tuple1:\n",
    "        if element == targateelement:\n",
    "            count += 1\n",
    "    return count \n",
    "    \n",
    "targateelement = 30 \n",
    "my_tuple1 = (10, 30, 30, 30, 50)\n",
    "result = count(targateelement , my_tuple1)\n",
    "print (result)"
   ]
  },
  {
   "cell_type": "code",
   "execution_count": 33,
   "id": "18edc907-af17-47bf-9799-9086da040a02",
   "metadata": {},
   "outputs": [],
   "source": [
    "# 4 Find the index of the first occurrence of an element in a tuple.¶"
   ]
  },
  {
   "cell_type": "code",
   "execution_count": 46,
   "id": "daa4e795-b2f6-4ab5-9e56-f5c040376aa4",
   "metadata": {},
   "outputs": [
    {
     "name": "stdout",
     "output_type": "stream",
     "text": [
      "[1, 2, 3]\n"
     ]
    }
   ],
   "source": [
    "def findoccurance(targateelement , my_tuple):\n",
    "    index = []\n",
    "    for i, element in enumerate(my_tuple):\n",
    "        if element == targateelement:\n",
    "            index.append(i)\n",
    "    return index \n",
    "\n",
    "targateelement = 30 \n",
    "my_tuple = (10, 30, 30, 30, 50)\n",
    "result = findoccurance(targateelement , my_tuple)\n",
    "print (result)"
   ]
  },
  {
   "cell_type": "code",
   "execution_count": 52,
   "id": "72c7407b-7c22-4ce2-86da-01e3bf7f2df8",
   "metadata": {},
   "outputs": [],
   "source": [
    "#6. Check if an element exists in a tuple."
   ]
  },
  {
   "cell_type": "code",
   "execution_count": 51,
   "id": "8ed39642-9e4a-45b5-96c7-2a6343e23df8",
   "metadata": {},
   "outputs": [
    {
     "name": "stdin",
     "output_type": "stream",
     "text": [
      "Enter your element Number  5\n"
     ]
    },
    {
     "name": "stdout",
     "output_type": "stream",
     "text": [
      "Element 5 avalible in tuple \n"
     ]
    }
   ],
   "source": [
    "tuple1 = (1,2,3,4,5,6)\n",
    "element1 = int(input(\"Enter your element Number \"))\n",
    "if element1 in tuple1:\n",
    "    print(f\"Element {element1} avalible in tuple1 \")\n",
    "else:\n",
    "    print(f\"Element {element1} not avalible in tuple1 \")\n",
    "\n",
    "          "
   ]
  },
  {
   "cell_type": "code",
   "execution_count": 53,
   "id": "6ac9b655-f22c-476c-8f13-3d1805f131b9",
   "metadata": {},
   "outputs": [],
   "source": [
    "# 7. Convert a tuple to a list."
   ]
  },
  {
   "cell_type": "code",
   "execution_count": 55,
   "id": "73b0e55e-2ed9-4ef6-bb6a-7d4d437254d7",
   "metadata": {},
   "outputs": [
    {
     "name": "stdout",
     "output_type": "stream",
     "text": [
      "[1, 2, 3, 4, 5, 6]\n"
     ]
    }
   ],
   "source": [
    "tuple2= (1,2,3,4,5,6)\n",
    "print(list(tuple2))"
   ]
  },
  {
   "cell_type": "code",
   "execution_count": 56,
   "id": "491a784b-80d4-444c-8834-bd9f8e941609",
   "metadata": {},
   "outputs": [],
   "source": [
    "# 8 Convert a list to a tuple."
   ]
  },
  {
   "cell_type": "code",
   "execution_count": 58,
   "id": "0b4d4244-1979-4d8f-bea5-be54dd7f3f8a",
   "metadata": {},
   "outputs": [
    {
     "name": "stdout",
     "output_type": "stream",
     "text": [
      "(1, 2, 3, 4, 5, 6)\n"
     ]
    }
   ],
   "source": [
    "list2= [1,2,3,4,5,6]\n",
    "print(tuple(list2))"
   ]
  },
  {
   "cell_type": "code",
   "execution_count": 59,
   "id": "b1506b11-3fe7-43a5-9aa0-b4cfedb9ddbe",
   "metadata": {},
   "outputs": [],
   "source": [
    "# 9 Unpack the elements of a tuple into variables.¶"
   ]
  },
  {
   "cell_type": "code",
   "execution_count": 60,
   "id": "05224880-9530-4905-9c02-6d89d86ebcec",
   "metadata": {},
   "outputs": [
    {
     "name": "stdout",
     "output_type": "stream",
     "text": [
      "1\n",
      "2\n",
      "3\n"
     ]
    }
   ],
   "source": [
    "my_tuple = (1, 2, 3)\n",
    "a, b, c = my_tuple\n",
    "\n",
    "print(a)  \n",
    "print(b)  \n",
    "print(c)   "
   ]
  },
  {
   "cell_type": "code",
   "execution_count": 61,
   "id": "35830b3f-df2b-4277-87dc-aad0b1efb1e6",
   "metadata": {},
   "outputs": [],
   "source": [
    "# 10 Create a tuple of even numbers from 1 to 10.¶"
   ]
  },
  {
   "cell_type": "code",
   "execution_count": 101,
   "id": "b7f62cec-37aa-474f-8f6e-716d72876eeb",
   "metadata": {},
   "outputs": [
    {
     "name": "stdout",
     "output_type": "stream",
     "text": [
      "(2, 4, 6, 8, 10)\n"
     ]
    }
   ],
   "source": [
    "even_numbers_tuple = tuple(x for x in range(2, 11, 2))\n",
    "\n",
    "print(even_numbers_tuple)"
   ]
  },
  {
   "cell_type": "code",
   "execution_count": null,
   "id": "2356adf9-cbe6-4e89-b9ce-1106b4fb19ed",
   "metadata": {},
   "outputs": [],
   "source": [
    "# 11  Create a tuple of odd numbers from 1 to 10"
   ]
  },
  {
   "cell_type": "code",
   "execution_count": 105,
   "id": "9b511333-a0bf-4f53-974f-2504dfae2331",
   "metadata": {},
   "outputs": [
    {
     "name": "stdout",
     "output_type": "stream",
     "text": [
      "(1, 3, 5, 7, 9)\n"
     ]
    }
   ],
   "source": [
    "odd_numbers_tuple = tuple(x for x in range(1, 11, 2))\n",
    "\n",
    "print(odd_numbers_tuple)"
   ]
  },
  {
   "cell_type": "code",
   "execution_count": 106,
   "id": "a5e74854-2eb9-42eb-8043-fdd5374f1a6d",
   "metadata": {},
   "outputs": [],
   "source": [
    "# 12 Concatenate two tuples."
   ]
  },
  {
   "cell_type": "code",
   "execution_count": 107,
   "id": "1a37f28f-c0fd-438b-89a3-e8022561872c",
   "metadata": {},
   "outputs": [
    {
     "data": {
      "text/plain": [
       "(2, 4, 6, 8, 10, 1, 3, 5, 7, 9)"
      ]
     },
     "execution_count": 107,
     "metadata": {},
     "output_type": "execute_result"
    }
   ],
   "source": [
    "tuple3 = (2, 4, 6, 8, 10)\n",
    "tuple4 = (1, 3, 5, 7, 9)\n",
    "tuple3+tuple4"
   ]
  },
  {
   "cell_type": "code",
   "execution_count": 108,
   "id": "213c2479-b4d8-4db0-b98d-10d5cac66a1a",
   "metadata": {},
   "outputs": [],
   "source": [
    "# 13  Repeat a tuple three times."
   ]
  },
  {
   "cell_type": "code",
   "execution_count": 111,
   "id": "28d67f74-65d0-4afb-8392-f063ab707014",
   "metadata": {},
   "outputs": [
    {
     "name": "stdout",
     "output_type": "stream",
     "text": [
      "(2, 4, 6, 8, 10, 1, 3, 5, 7, 9, 2, 4, 6, 8, 10, 1, 3, 5, 7, 9, 2, 4, 6, 8, 10, 1, 3, 5, 7, 9)\n"
     ]
    }
   ],
   "source": [
    "tuple5 = (2, 4, 6, 8, 10, 1, 3, 5, 7, 9)\n",
    "print (tuple5*3)"
   ]
  },
  {
   "cell_type": "code",
   "execution_count": 1,
   "id": "48b71581-8705-4412-8cd4-fbc9044b590a",
   "metadata": {},
   "outputs": [
    {
     "name": "stdout",
     "output_type": "stream",
     "text": [
      "The empty_tuple is empty.\n",
      "The non_empty_tuple is not empty.\n"
     ]
    }
   ],
   "source": [
    "# 14. Check if a tuple is empty.\n",
    "\n",
    "empty_tuple = ()\n",
    "non_empty_tuple = (1,2,3)\n",
    "if not empty_tuple:\n",
    "    print(\"The empty_tuple is empty.\")\n",
    "else:\n",
    "    print(\"The empty_tuple is not empty.\")\n",
    "\n",
    "if not non_empty_tuple:\n",
    "    print(\"The non_empty_tuple is empty.\")\n",
    "else:\n",
    "    print(\"The non_empty_tuple is not empty.\")"
   ]
  },
  {
   "cell_type": "code",
   "execution_count": 2,
   "id": "01ab4487-e09d-41ac-a011-c903b0895319",
   "metadata": {},
   "outputs": [],
   "source": [
    "# 15 Create a nested tuple."
   ]
  },
  {
   "cell_type": "code",
   "execution_count": 6,
   "id": "d0ce66a2-9f0d-41e1-bd43-8a934d0b42a1",
   "metadata": {},
   "outputs": [
    {
     "name": "stdout",
     "output_type": "stream",
     "text": [
      "(1, (2, 3), 13)\n"
     ]
    }
   ],
   "source": [
    "tuple7 = ((1,(2,3),13))\n",
    "print(tuple7)"
   ]
  },
  {
   "cell_type": "code",
   "execution_count": 7,
   "id": "ee1df9bc-b739-4607-aa13-18e580063922",
   "metadata": {},
   "outputs": [],
   "source": [
    "# 16 Access the first element of a nested tuple."
   ]
  },
  {
   "cell_type": "code",
   "execution_count": 9,
   "id": "98e64bfb-f0db-494d-b4cc-38355dffb320",
   "metadata": {},
   "outputs": [
    {
     "data": {
      "text/plain": [
       "(2, 3)"
      ]
     },
     "execution_count": 9,
     "metadata": {},
     "output_type": "execute_result"
    }
   ],
   "source": [
    "tuple7 = ((1,(2,3),13))\n",
    "tuple7[1]"
   ]
  },
  {
   "cell_type": "code",
   "execution_count": 10,
   "id": "02be44f0-28ff-488b-99ee-ce85130bcef5",
   "metadata": {},
   "outputs": [],
   "source": [
    "# 17. Create a tuple with a single element."
   ]
  },
  {
   "cell_type": "code",
   "execution_count": 14,
   "id": "fc8944f1-f9ca-404c-9ffa-c59cb129a7fc",
   "metadata": {},
   "outputs": [
    {
     "name": "stdout",
     "output_type": "stream",
     "text": [
      "(2,)\n"
     ]
    }
   ],
   "source": [
    "tuplewithsingleelement = (2,)\n",
    "print(tuplewithsingleelement)"
   ]
  },
  {
   "cell_type": "code",
   "execution_count": 15,
   "id": "02406092-78e5-44ff-8cfe-66ace8cbc4b2",
   "metadata": {},
   "outputs": [],
   "source": [
    "# 18. Compare two tuples."
   ]
  },
  {
   "cell_type": "code",
   "execution_count": 33,
   "id": "607ec3fb-130b-4174-afa4-eaa13664d72c",
   "metadata": {},
   "outputs": [
    {
     "name": "stdout",
     "output_type": "stream",
     "text": [
      "Comparision\n",
      "1: False\n",
      "2: True\n",
      "3: False\n",
      "4: False\n",
      "5: True\n",
      "6: True\n"
     ]
    }
   ],
   "source": [
    "tuple1 = (6, 8, 6)\n",
    "tuple2 = (6, 8, 5)\n",
    "print(\"Comparision\")\n",
    "print(\"1:\", tuple1 == tuple2)\n",
    "print(\"2:\", tuple1 != tuple2) \n",
    "print(\"3:\", tuple1 < tuple2)   \n",
    "print(\"4:\", tuple1 <= tuple2)  \n",
    "print(\"5:\", tuple1 > tuple2)   \n",
    "print(\"6:\", tuple1 >= tuple2)  "
   ]
  },
  {
   "cell_type": "code",
   "execution_count": 34,
   "id": "0e307731-1104-4a7e-a28a-2c22dc1d1be2",
   "metadata": {},
   "outputs": [],
   "source": [
    "# 19 Delete a tuple"
   ]
  },
  {
   "cell_type": "code",
   "execution_count": 36,
   "id": "9c2fe818-41f8-4ba2-9b58-5adf1c9755c7",
   "metadata": {},
   "outputs": [
    {
     "ename": "NameError",
     "evalue": "name 'tuple1' is not defined",
     "output_type": "error",
     "traceback": [
      "\u001b[0;31m---------------------------------------------------------------------------\u001b[0m",
      "\u001b[0;31mNameError\u001b[0m                                 Traceback (most recent call last)",
      "Cell \u001b[0;32mIn[36], line 3\u001b[0m\n\u001b[1;32m      1\u001b[0m tuple1 \u001b[38;5;241m=\u001b[39m (\u001b[38;5;241m6\u001b[39m, \u001b[38;5;241m8\u001b[39m, \u001b[38;5;241m6\u001b[39m)\n\u001b[1;32m      2\u001b[0m \u001b[38;5;28;01mdel\u001b[39;00m tuple1\n\u001b[0;32m----> 3\u001b[0m \u001b[38;5;28mprint\u001b[39m (\u001b[43mtuple1\u001b[49m)\n",
      "\u001b[0;31mNameError\u001b[0m: name 'tuple1' is not defined"
     ]
    }
   ],
   "source": [
    "tuple1 = (6, 8, 6)\n",
    "del tuple1\n",
    "print (tuple1)"
   ]
  },
  {
   "cell_type": "code",
   "execution_count": null,
   "id": "640e2503-37a4-4645-97a6-21e095f00ff7",
   "metadata": {},
   "outputs": [],
   "source": [
    "# 20 Slice a tuple.¶"
   ]
  },
  {
   "cell_type": "code",
   "execution_count": 40,
   "id": "5d23d9ef-b1e4-427d-b24a-c8e4b31ec5f9",
   "metadata": {},
   "outputs": [
    {
     "data": {
      "text/plain": [
       "(6, 8, 10)"
      ]
     },
     "execution_count": 40,
     "metadata": {},
     "output_type": "execute_result"
    }
   ],
   "source": [
    "tuple0 = (2, 4, 6, 8, 10, 1, 3, 5, 7, 9, 2, 4, 6, 8, 10, 1, 3, 5, 7, 9, 2, 4, 6, 8, 10, 1, 3, 5, 7, 9)\n",
    "tuple0[2:5]"
   ]
  },
  {
   "cell_type": "code",
   "execution_count": 41,
   "id": "fbde40f4-5266-4209-92d1-c9311d3d0409",
   "metadata": {},
   "outputs": [],
   "source": [
    "# 21 Find the maximum value in a tuple."
   ]
  },
  {
   "cell_type": "code",
   "execution_count": 43,
   "id": "8423fae3-7ea3-4ca7-9739-c431f3ccbd2d",
   "metadata": {},
   "outputs": [
    {
     "data": {
      "text/plain": [
       "10"
      ]
     },
     "execution_count": 43,
     "metadata": {},
     "output_type": "execute_result"
    }
   ],
   "source": [
    "tuple0 = (2, 4, 6, 8, 10, 1, 3, 5, 7, 9, 2, 4, 6, 8, 10, 1, 3, 5, 7, 9, 2, 4, 6, 8, 10, 1, 3, 5, 7, 9)\n",
    "max(tuple0)"
   ]
  },
  {
   "cell_type": "code",
   "execution_count": 44,
   "id": "7dcfe681-2c5a-411a-84c8-5d86828600db",
   "metadata": {},
   "outputs": [],
   "source": [
    "# 22 find the minimum value in a tuple."
   ]
  },
  {
   "cell_type": "code",
   "execution_count": 45,
   "id": "d02a080a-d562-4650-878c-00f670a51b81",
   "metadata": {},
   "outputs": [
    {
     "data": {
      "text/plain": [
       "1"
      ]
     },
     "execution_count": 45,
     "metadata": {},
     "output_type": "execute_result"
    }
   ],
   "source": [
    "tuple10 = (2, 4, 6, 8, 10, 1, 3, 5, 7, 9, 2, 4, 6, 8, 10, 1, 3, 5, 7, 9, 2, 4, 6, 8, 10, 1, 3, 5, 7, 9)\n",
    "min(tuple10)"
   ]
  },
  {
   "cell_type": "code",
   "execution_count": null,
   "id": "52e7b6ea-be8b-44c4-81ec-753dbe58db3a",
   "metadata": {},
   "outputs": [],
   "source": [
    "#23 Convert a string to a tuple of characters.¶"
   ]
  },
  {
   "cell_type": "code",
   "execution_count": 49,
   "id": "be1da617-00d0-4be8-ac1a-d02212c453f6",
   "metadata": {},
   "outputs": [
    {
     "name": "stdout",
     "output_type": "stream",
     "text": [
      "('W', 'e', ' ', 'c', 'a', 'n', ' ', 'a', 'c', 'c', 'e', 's', 's', ' ', 'a', ' ', 't', 'u', 'p', 'l', 'e', \"'\", 's', ' ', 'e', 'l', 'e', 'm', 'e', 'n', 't', 's', ' ', 'b', 'y', ' ', 'r', 'e', 'f', 'e', 'r', 'r', 'i', 'n', 'g', ' ', 't', 'o', ' ', 't', 'h', 'e', ' ', 'i', 'n', 'd', 'e', 'x', ' ', 'n', 'u', 'm', 'b', 'e', 'r', '.', ' ', 'R', 'e', 'm', 'e', 'm', 'b', 'e', 'r', ' ', 't', 'h', 'a', 't', ' ', 't', 'h', 'e', ' ', 'i', 'n', 'd', 'e', 'x', ' ', 'i', 'n', ' ', 'a', ' ', 'P', 'y', 't', 'h', 'o', 'n', ' ', 't', 'u', 'p', 'l', 'e', ' ', 's', 't', 'a', 'r', 't', 's', ' ', 'f', 'r', 'o', 'm', ' ', \"'\", '0', \"'\", '.', ' ', 'T', 'o', ' ', 'a', 'c', 'c', 'e', 's', 's', ' ', 'e', 'l', 'e', 'm', 'e', 'n', 't', 's', ' ', 'i', 'n', ' ', 'a', ' ', 't', 'u', 'p', 'l', 'e', ',', ' ', 'w', 'e', ' ', 'p', 'r', 'o', 'v', 'i', 'd', 'e', ' ', 't', 'h', 'e', ' ', 'i', 'n', 'd', 'e', 'x', ' ', '(', 'a', 's', ' ', 'i', 'n', 't', 'e', 'g', 'e', 'r', ')', ' ', 'i', 'n', 's', 'i', 'd', 'e', ' ', 't', 'h', 'e', ' ', 's', 'q', 'u', 'a', 'r', 'e', ' ', 'b', 'r', 'a', 'c', 'k', 'e', 't', 's', ' ', '(', ' ', '[', ' ', ']', ' ', ')', ',', ' ', 'a', 's', ' ', 's', 'h', 'o', 'w', 'n', ' ', 'b', 'e', 'l', 'o', 'w', '.', ' ', 'T', 'o', ' ', 'a', 'c', 'c', 'e', 's', 's', ' ', 't', 'h', 'e', ' ', 'e', 'l', 'e', 'm', 'e', 'n', 't', 's', ' ', 'f', 'r', 'o', 'm', ' ', 't', 'h', 'e', ' ', 'e', 'n', 'd', ' ', 'o', 'f', ' ', 't', 'h', 'e', ' ', 't', 'u', 'p', 'l', 'e', ',', ' ', 'w', 'e', ' ', 'u', 's', 'e', ' ', 'n', 'e', 'g', 'a', 't', 'i', 'v', 'e', ' ', 'i', 'n', 'd', 'e', 'x', 'i', 'n', 'g', '.')\n"
     ]
    }
   ],
   "source": [
    "string = \"We can access a tuple's elements by referring to the index number. Remember that the index in a Python tuple starts from '0'. To access elements in a tuple, we provide the index (as integer) inside the square brackets ( [ ] ), as shown below. To access the elements from the end of the tuple, we use negative indexing.\"\n",
    "print(tuple(string))"
   ]
  },
  {
   "cell_type": "code",
   "execution_count": 46,
   "id": "e111869d-cc04-4e63-92ce-3e194e44053d",
   "metadata": {},
   "outputs": [],
   "source": [
    "# 24 Convert a tuple of characters to a string."
   ]
  },
  {
   "cell_type": "code",
   "execution_count": 47,
   "id": "5017f353-b6c8-4e36-bcac-c18f0013a0fe",
   "metadata": {},
   "outputs": [
    {
     "data": {
      "text/plain": [
       "'(2, 4, 6, 8, 10, 1, 3, 5, 7, 9, 2, 4, 6, 8, 10, 1, 3, 5, 7, 9, 2, 4, 6, 8, 10, 1, 3, 5, 7, 9)'"
      ]
     },
     "execution_count": 47,
     "metadata": {},
     "output_type": "execute_result"
    }
   ],
   "source": [
    "tuple10 = (2, 4, 6, 8, 10, 1, 3, 5, 7, 9, 2, 4, 6, 8, 10, 1, 3, 5, 7, 9, 2, 4, 6, 8, 10, 1, 3, 5, 7, 9)\n",
    "str(tuple10)"
   ]
  },
  {
   "cell_type": "code",
   "execution_count": 50,
   "id": "9113b230-8b3f-4ab4-8a2a-78544a69bb3e",
   "metadata": {},
   "outputs": [],
   "source": [
    "# 25. Create a tuple from multiple data types."
   ]
  },
  {
   "cell_type": "code",
   "execution_count": 52,
   "id": "e3de16b3-4b47-425c-bddb-ae55b4657d55",
   "metadata": {},
   "outputs": [
    {
     "name": "stdout",
     "output_type": "stream",
     "text": [
      "(1, '1', True, [1, 2], (3, 4))\n"
     ]
    }
   ],
   "source": [
    "tuple11 = (1,\"1\",True,[1,2],(3,4))\n",
    "print(tuple11)"
   ]
  },
  {
   "cell_type": "code",
   "execution_count": 53,
   "id": "1147f2e8-19f2-4d2e-a19b-e156a32db22f",
   "metadata": {},
   "outputs": [],
   "source": [
    "# 26 Check if two tuples are identical."
   ]
  },
  {
   "cell_type": "code",
   "execution_count": 54,
   "id": "47914672-50fd-4a7e-becf-5f4fc0a3164a",
   "metadata": {},
   "outputs": [
    {
     "name": "stdout",
     "output_type": "stream",
     "text": [
      "tuple12 & tuple13 are identical\n"
     ]
    }
   ],
   "source": [
    "tuple12 = (2, 4, 6, 8, 10, 1, 3, 5, 7, 9, 2, 4, 6, 8, 10, 1, 3, 5, 7, 9, 2, 4, 6, 8, 10, 1, 3, 5, 7, 9)\n",
    "tuple13 = (2, 4, 6, 8, 10, 1, 3, 5, 7, 9, 2, 4, 6, 8, 10, 1, 3, 5, 7, 9, 2, 4, 6, 8, 10, 1, 3, 5, 7, 9)\n",
    "\n",
    "if tuple12 == tuple13:\n",
    "    print(\"tuple12 & tuple13 are identical\")\n",
    "else :\n",
    "    print(\"tuple12 & tuple13 are not identical\")"
   ]
  },
  {
   "cell_type": "code",
   "execution_count": 55,
   "id": "8b687bc0-a690-40c7-a852-659935fb4a5e",
   "metadata": {},
   "outputs": [],
   "source": [
    "# 27 Sort the elements of a tuple."
   ]
  },
  {
   "cell_type": "code",
   "execution_count": 71,
   "id": "be8a2745-ba3c-4d99-8ebf-587513895eb7",
   "metadata": {},
   "outputs": [
    {
     "name": "stdout",
     "output_type": "stream",
     "text": [
      "{1, 2, 3, 4, 5, 6, 7, 8, 9, 10}\n",
      "(1, 2)\n",
      "(3, 4)\n"
     ]
    }
   ],
   "source": [
    "tuple14 = (2, 4, 6, 8, 10, 1, 3, 5, 7, 9, 2, 4, 6, 8, 10, 1, 3, 5, 7, 9, 2, 4, 6, 8, 10, 1, 3, 5, 7, 9)\n",
    "print(set(tuple14))\n",
    "def sorttuple(tuple14):\n",
    "    for i in tuple14:\n",
    "        if i[0] <= len(tuple14):\n",
    "            print(i)\n",
    "\n",
    "tuple14 = [(1, 2), (3, 4), (5, 6)]\n",
    "sorttuple(tuple14)"
   ]
  },
  {
   "cell_type": "code",
   "execution_count": null,
   "id": "5f923ac5-9ada-4fb1-a64a-85a911e594c7",
   "metadata": {},
   "outputs": [],
   "source": [
    "# 28 Convert a tuple of integers to a tuple of strings."
   ]
  },
  {
   "cell_type": "code",
   "execution_count": 83,
   "id": "642ba1d0-7264-43e9-9bb7-3c11b818ca0e",
   "metadata": {},
   "outputs": [
    {
     "name": "stdout",
     "output_type": "stream",
     "text": [
      "(2, 4, 6, 8, 10, 1, 3, 5, 7, 9, 2, 4, 6, 8, 10, 1, 3, 5, 7, 9, 2, 4, 6, 8, 10, 1, 3, 5, 7, 9)\n"
     ]
    }
   ],
   "source": [
    "tuple14 = (2, 4, 6, 8, 10, 1, 3, 5, 7, 9, 2, 4, 6, 8, 10, 1, 3, 5, 7, 9, 2, 4, 6, 8, 10, 1, 3, 5, 7, 9)\n",
    "print(f\"{tuple14}\")"
   ]
  },
  {
   "cell_type": "code",
   "execution_count": null,
   "id": "aeced2a0-8bd2-4e9e-bd37-b65058c76273",
   "metadata": {},
   "outputs": [],
   "source": [
    "# 29 Convert a tuple of strings to a tuple of integers."
   ]
  },
  {
   "cell_type": "code",
   "execution_count": 5,
   "id": "bc278e4e-4202-4435-8a99-91963748dc76",
   "metadata": {},
   "outputs": [
    {
     "name": "stdout",
     "output_type": "stream",
     "text": [
      "tuple90integers (1, 10, 11)\n"
     ]
    }
   ],
   "source": [
    "tuple90 = (\"01\" , \"10\", \"11\" )\n",
    "\n",
    "tuple90integers = tuple(int(item) for item in tuple90)\n",
    "\n",
    "print (\"tuple90integers\" , tuple90integers)\n"
   ]
  },
  {
   "cell_type": "code",
   "execution_count": 6,
   "id": "794b94a0-a60f-4972-9b4d-6a915b0275ed",
   "metadata": {},
   "outputs": [],
   "source": [
    "# 30 Merge two tuples."
   ]
  },
  {
   "cell_type": "code",
   "execution_count": 9,
   "id": "458103f5-c360-4a31-a5bd-b0a89362cc9f",
   "metadata": {},
   "outputs": [
    {
     "name": "stdout",
     "output_type": "stream",
     "text": [
      "Merged tuple: (11, 12, 13, 14)\n"
     ]
    }
   ],
   "source": [
    "tuple11 = (11, 12)\n",
    "tuple13 = (13, 14)\n",
    "\n",
    "merged_tuple = tuple11 + tuple13\n",
    "\n",
    "print(\"Merged tuple:\", merged_tuple)"
   ]
  },
  {
   "cell_type": "code",
   "execution_count": 10,
   "id": "d82b4455-0083-4814-8186-309f248f247b",
   "metadata": {},
   "outputs": [],
   "source": [
    "# 31 Flatten a nested tuple."
   ]
  },
  {
   "cell_type": "code",
   "execution_count": 15,
   "id": "b6b98cb8-9cc3-4e82-bafc-8832ea994583",
   "metadata": {},
   "outputs": [
    {
     "name": "stdout",
     "output_type": "stream",
     "text": [
      "(1, 2, 3, 4, 5, 6, 7, 8)\n"
     ]
    }
   ],
   "source": [
    "def flatten_tupple(nested_tuple):\n",
    "    flattened = []\n",
    "    for item in nested_tuple:\n",
    "        if isinstance(item,tuple):\n",
    "            flattened.extend(flatten_tupple(item))\n",
    "        else:\n",
    "            flattened.append(item)\n",
    "    return flattened\n",
    "\n",
    "nested_tuple = ((1, 2), (3, 4, 5), (6, (7, 8)))\n",
    "result =  tuple(flatten_tuple(nested_tuple))\n",
    "print(result)"
   ]
  },
  {
   "cell_type": "code",
   "execution_count": 16,
   "id": "b9fefd6b-4705-404e-a9e5-b91c034a38b2",
   "metadata": {},
   "outputs": [],
   "source": [
    "# 32 Create a tuple of the first 5 prime numbers."
   ]
  },
  {
   "cell_type": "code",
   "execution_count": 29,
   "id": "98120742-4434-48e5-883e-772c7e47a53f",
   "metadata": {},
   "outputs": [
    {
     "name": "stdout",
     "output_type": "stream",
     "text": [
      "Tuple of the first 5 prime numbers: (2, 3, 5, 7, 11)\n"
     ]
    }
   ],
   "source": [
    "def tupleofprime5(n):\n",
    "    if n <= 1:\n",
    "        return False \n",
    "    for i in range(2, int(n ** 0.5) + 1):\n",
    "        if n%i ==0 :\n",
    "            return False\n",
    "    return True \n",
    "\n",
    "prime_numbers_list = [n for n in range(2, 100) if tupleofprime5(n)][:5]\n",
    "prime_numbers_tuple = tuple(prime_numbers_list)\n",
    "print(\"Tuple of the first 5 prime numbers:\", prime_numbers_tuple)"
   ]
  },
  {
   "cell_type": "code",
   "execution_count": 30,
   "id": "abab6915-260e-47bb-99e4-fde67d321264",
   "metadata": {},
   "outputs": [],
   "source": [
    "# 33 Check if a tuple is palindrome "
   ]
  },
  {
   "cell_type": "code",
   "execution_count": 34,
   "id": "260ddfe8-601d-4cfc-83cd-016f3587ffef",
   "metadata": {},
   "outputs": [
    {
     "data": {
      "text/plain": [
       "'Tuple is Palindrome'"
      ]
     },
     "execution_count": 34,
     "metadata": {},
     "output_type": "execute_result"
    }
   ],
   "source": [
    "def check_palindraome(tuple12):\n",
    "    if tuple12[0::] == tuple12[::-1]:\n",
    "        return \"Tuple is Palindrome\"\n",
    "    else:\n",
    "        return \"Tuple is not Palindrome\"\n",
    "tuple12 = (1,2,3,2,1)\n",
    "check_palindraome(tuple12)"
   ]
  },
  {
   "cell_type": "code",
   "execution_count": null,
   "id": "671e7b5e-27fb-464c-ae52-a1b2eccff4f0",
   "metadata": {},
   "outputs": [],
   "source": [
    "# 34 Create a tuple of squares of numbers from 1 to 5."
   ]
  },
  {
   "cell_type": "code",
   "execution_count": 62,
   "id": "78918f26-003c-4fd6-8832-0ef00b8330eb",
   "metadata": {},
   "outputs": [
    {
     "name": "stdout",
     "output_type": "stream",
     "text": [
      "1\n",
      "4\n",
      "9\n",
      "16\n",
      "25\n"
     ]
    }
   ],
   "source": [
    "def print_sqaure(n):\n",
    "    printed_sqaures = (i**2 for i in range(1,n+1))\n",
    "    for sqaure in printed_sqaures:\n",
    "        print(sqaure)\n",
    "n = 5\n",
    "(print_sqaure(n))"
   ]
  },
  {
   "cell_type": "code",
   "execution_count": null,
   "id": "06d05d07-daec-4dea-9433-dac47c59acdc",
   "metadata": {},
   "outputs": [],
   "source": [
    "# 35 Filter out all even numbers from a tuple.¶"
   ]
  },
  {
   "cell_type": "code",
   "execution_count": 24,
   "id": "da0cc1a6-6c85-4d1c-9152-eac55fad22d3",
   "metadata": {},
   "outputs": [
    {
     "data": {
      "text/plain": [
       "(2, 4, 6, 8)"
      ]
     },
     "execution_count": 24,
     "metadata": {},
     "output_type": "execute_result"
    }
   ],
   "source": [
    "def filter_even_num(tuple14):\n",
    "    even_num = ()\n",
    "    for i in tuple14:\n",
    "        if i%2 == 0 :\n",
    "            even_num += (i,)\n",
    "    return even_num\n",
    "\n",
    "tuple14 = (1, 2, 3, 4, 5, 6, 7, 8)\n",
    "filter_even_num(tuple14)"
   ]
  },
  {
   "cell_type": "code",
   "execution_count": 25,
   "id": "fdfa26ca-f552-4910-b777-e104232a5fd4",
   "metadata": {},
   "outputs": [],
   "source": [
    "# 36. Multiply all elements in a tuple by 2."
   ]
  },
  {
   "cell_type": "code",
   "execution_count": 37,
   "id": "caf7e8f5-2c2a-422b-9fcc-64c376849b88",
   "metadata": {},
   "outputs": [
    {
     "data": {
      "text/plain": [
       "(2, 4, 6, 8, 10, 12, 14, 16)"
      ]
     },
     "execution_count": 37,
     "metadata": {},
     "output_type": "execute_result"
    }
   ],
   "source": [
    "def mutly_all_elements(tuple14):\n",
    "    num = ()\n",
    "    for i in tuple14:\n",
    "        if i*2 >=1 :\n",
    "             num += (i*2,)\n",
    "    return num\n",
    "\n",
    "tuple14 = (1, 2, 3, 4, 5, 6, 7, 8)\n",
    "mutly_all_elements(tuple14)\n"
   ]
  },
  {
   "cell_type": "code",
   "execution_count": 38,
   "id": "068b2c9e-89a1-4c6b-a743-16bc4d04deda",
   "metadata": {},
   "outputs": [],
   "source": [
    "#37 Create a tuple of random numbers."
   ]
  },
  {
   "cell_type": "code",
   "execution_count": 54,
   "id": "bc1de948-67ca-4fa3-9e60-ed340adff556",
   "metadata": {},
   "outputs": [
    {
     "name": "stdout",
     "output_type": "stream",
     "text": [
      "random_num  (3, 4, 89, 73, 14, 13, 51, 48, 62, 56)\n"
     ]
    }
   ],
   "source": [
    "import random \n",
    "random_num = tuple(random.randint(1,100) for _ in range(10))\n",
    "print(\"random_num \" , random_num)"
   ]
  },
  {
   "cell_type": "code",
   "execution_count": 55,
   "id": "293acd5c-71ee-429d-906a-8863612d2c3f",
   "metadata": {},
   "outputs": [],
   "source": [
    "# 38 Check if a tuple is sorted."
   ]
  },
  {
   "cell_type": "code",
   "execution_count": 77,
   "id": "eff593b2-d625-4a73-8f09-045e422df78b",
   "metadata": {},
   "outputs": [
    {
     "data": {
      "text/plain": [
       "'Not a sorted tuple'"
      ]
     },
     "execution_count": 77,
     "metadata": {},
     "output_type": "execute_result"
    }
   ],
   "source": [
    "def check_sorteda_tuple(tuple17):\n",
    "    for i in range(len(tuple17)-1):\n",
    "        if tuple17[i] > tuple17[i+1]:\n",
    "            return \"Not a sorted tuple\"\n",
    "    return \"It is a sorted tuple\"\n",
    "    \n",
    "tuple17 = (5,4,2,1)\n",
    "check_sorteda_tuple(tuple17)"
   ]
  },
  {
   "cell_type": "code",
   "execution_count": 78,
   "id": "c82a04b4-7c2c-4494-8f26-9eb9577a666f",
   "metadata": {},
   "outputs": [],
   "source": [
    "#39 Rotate a tuple to the left by n positions."
   ]
  },
  {
   "cell_type": "code",
   "execution_count": 5,
   "id": "dc22eceb-f0ac-4290-b8f7-71d0c2d5126b",
   "metadata": {},
   "outputs": [
    {
     "data": {
      "text/plain": [
       "(6, 7, 5, 5, 5, 6, 8, 6, 2)"
      ]
     },
     "execution_count": 5,
     "metadata": {},
     "output_type": "execute_result"
    }
   ],
   "source": [
    "def rotate_tuple(tuple20,n):\n",
    "    n = n%len(tuple20)\n",
    "    rotate_tuple = tuple20[n:] + tuple20[:n]\n",
    "    return rotate_tuple\n",
    "n = 4\n",
    "tuple20 = (6,8,6,2,6,7,5,5,5)\n",
    "rotate_tuple(tuple20,n)"
   ]
  },
  {
   "cell_type": "code",
   "execution_count": null,
   "id": "663ece5a-ec04-4174-9c6c-1e1947af9cd6",
   "metadata": {},
   "outputs": [],
   "source": [
    "#40 Rotate a tuple to the right by n positions."
   ]
  },
  {
   "cell_type": "code",
   "execution_count": 1,
   "id": "b08dc271-7aab-4581-92d6-420953dcf74e",
   "metadata": {},
   "outputs": [
    {
     "data": {
      "text/plain": [
       "(7, 5, 5, 5, 6, 8, 6, 2)"
      ]
     },
     "execution_count": 1,
     "metadata": {},
     "output_type": "execute_result"
    }
   ],
   "source": [
    "def rotate_tuple(tuple20,n):\n",
    "    n = n%len(tuple20)\n",
    "    rotate_tuple = tuple20[-n:] + tuple20[:n]\n",
    "    return rotate_tuple\n",
    "n = 4\n",
    "tuple20 = (6,8,6,2,6,7,5,5,5)\n",
    "rotate_tuple(tuple20,n)\n",
    "    "
   ]
  },
  {
   "cell_type": "code",
   "execution_count": 2,
   "id": "59a1dbc6-d21b-457e-9f1b-18711506d692",
   "metadata": {},
   "outputs": [],
   "source": [
    "# 41. Create a tuple of the first 5 Fibonacci numbers."
   ]
  },
  {
   "cell_type": "code",
   "execution_count": 13,
   "id": "0ca92168-e4b4-4014-a75a-21252d0f63be",
   "metadata": {},
   "outputs": [
    {
     "name": "stdout",
     "output_type": "stream",
     "text": [
      "(0, 1, 1, 2, 3)\n"
     ]
    }
   ],
   "source": [
    "def fibonacci_(num):\n",
    "    if num <= 1:\n",
    "        return num\n",
    "    else:\n",
    "        return fibonacci_(num - 1) + fibonacci_(num - 2)\n",
    "\n",
    "result = tuple(fibonacci_(i) for i in range(5))\n",
    "print(result) "
   ]
  },
  {
   "cell_type": "code",
   "execution_count": 14,
   "id": "8a2e8678-9df5-460a-9889-d8a2284bc7e7",
   "metadata": {},
   "outputs": [],
   "source": [
    "# 42 Swap two elements in a tuple."
   ]
  },
  {
   "cell_type": "code",
   "execution_count": 23,
   "id": "a808f6a4-f903-4a6d-9f2f-4ab3729a599b",
   "metadata": {},
   "outputs": [
    {
     "name": "stdout",
     "output_type": "stream",
     "text": [
      "(1, 3, 2, 4)\n"
     ]
    }
   ],
   "source": [
    "my_tuple = (1, 2, 3, 4)\n",
    "tuple_list = list(my_tuple)\n",
    "tuple_list[1], tuple_list[2] = tuple_list[2], tuple_list[1]\n",
    "swapped_tuple = tuple(tuple_list)\n",
    "print(swapped_tuple)"
   ]
  },
  {
   "cell_type": "code",
   "execution_count": 22,
   "id": "b0fe0ae3-6102-4981-b93e-9ed31be03cd7",
   "metadata": {},
   "outputs": [],
   "source": [
    "# 43 Reverse the elements of a tuple.¶"
   ]
  },
  {
   "cell_type": "code",
   "execution_count": 26,
   "id": "4d545ba4-9b40-4484-af8a-60e62fbbf051",
   "metadata": {},
   "outputs": [
    {
     "data": {
      "text/plain": [
       "(4, 3, 2, 1)"
      ]
     },
     "execution_count": 26,
     "metadata": {},
     "output_type": "execute_result"
    }
   ],
   "source": [
    "my_tuple = (1, 2, 3, 4)\n",
    "my_tuple[::-1]"
   ]
  },
  {
   "cell_type": "code",
   "execution_count": 47,
   "id": "622a2893-e003-443b-ba3b-eccf748376cc",
   "metadata": {},
   "outputs": [],
   "source": [
    "# 45 Create a tuple of the first n powers of 2."
   ]
  },
  {
   "cell_type": "code",
   "execution_count": 26,
   "id": "cfac0777-a582-4738-be11-7657bfcb4609",
   "metadata": {},
   "outputs": [
    {
     "name": "stdout",
     "output_type": "stream",
     "text": [
      "(1, 2, 4, 8, 16)\n"
     ]
    }
   ],
   "source": [
    "def powers_of_2(n):\n",
    "    return tuple(2**i for i in range(n))\n",
    "result_tuple = powers_of_2(5)\n",
    "print(result_tuple)\n"
   ]
  },
  {
   "cell_type": "code",
   "execution_count": 27,
   "id": "810efd63-0130-4f2c-a36d-6c653e814f00",
   "metadata": {},
   "outputs": [],
   "source": [
    "# 46 Find the longest string in a tuple of strings.¶"
   ]
  },
  {
   "cell_type": "code",
   "execution_count": 32,
   "id": "a9b788b4-41b5-47b0-8252-2352e4caf531",
   "metadata": {},
   "outputs": [
    {
     "name": "stdout",
     "output_type": "stream",
     "text": [
      "a tuple of strings.\n"
     ]
    }
   ],
   "source": [
    "def find_maxlength(tuple1):\n",
    "    max_length = 0 \n",
    "    longest_string = \"\"\n",
    "    for string in tuple1 :\n",
    "        if len(string) > max_length:\n",
    "            longest_string = string\n",
    "    return longest_string\n",
    "        \n",
    "tuple1 = (\"46 Find the\",\" longest string in \", \"a tuple of strings.\")\n",
    "result = find_maxlength(tuple1)\n",
    "print(result)"
   ]
  },
  {
   "cell_type": "code",
   "execution_count": 53,
   "id": "5a65eda7-8f81-49e7-b073-81f4f1d84e49",
   "metadata": {},
   "outputs": [],
   "source": [
    "#47 Find the longest string in a tuple of strings.¶ "
   ]
  },
  {
   "cell_type": "code",
   "execution_count": 54,
   "id": "862fd004-a257-4636-9607-f667db429294",
   "metadata": {},
   "outputs": [
    {
     "name": "stdout",
     "output_type": "stream",
     "text": [
      "46 Find the\n"
     ]
    }
   ],
   "source": [
    "def find_minlength(tuple1):\n",
    "    if not tuple1 :\n",
    "        return None \n",
    "    short_string = tuple1[0]\n",
    "    min_length = len(short_string)\n",
    "    for string in tuple1 :\n",
    "        current_lenght = len(string) \n",
    "        if len(string) < min_length:\n",
    "            short_string = string\n",
    "    return short_string\n",
    "        \n",
    "tuple1 = (\"46 Find the\",\" longest string in \", \"a tuple of strings.\")\n",
    "result = find_minlength(tuple1)\n",
    "print(result)"
   ]
  },
  {
   "cell_type": "code",
   "execution_count": null,
   "id": "0c5d3baa-785d-42ce-aa49-53020b7b3c8b",
   "metadata": {},
   "outputs": [],
   "source": [
    "# 48 Create a tuple of the first n triangular numbers"
   ]
  },
  {
   "cell_type": "code",
   "execution_count": 70,
   "id": "1d7d9eab-443d-4e51-a862-98dd5612c4e0",
   "metadata": {},
   "outputs": [
    {
     "name": "stdout",
     "output_type": "stream",
     "text": [
      "(1, 3, 6, 10, 15)\n"
     ]
    }
   ],
   "source": [
    "n = 5\n",
    "triangular_numbers_tuple = tuple((i * (i + 1)) // 2 for i in range(1, n + 1))\n",
    "print(triangular_numbers_tuple)"
   ]
  },
  {
   "cell_type": "code",
   "execution_count": null,
   "id": "4cde8cbd-ec4a-46ba-9dae-3576ffdf4652",
   "metadata": {},
   "outputs": [],
   "source": [
    "# 49 Check if a tuple contains another tuple as a subsequence."
   ]
  },
  {
   "cell_type": "code",
   "execution_count": 73,
   "id": "2a8926ba-fce1-4678-8be0-f1015d8594d4",
   "metadata": {},
   "outputs": [
    {
     "name": "stdout",
     "output_type": "stream",
     "text": [
      "Main tuple contains subsequence tuple: True\n"
     ]
    }
   ],
   "source": [
    "def is_subsequence(sub, tup):\n",
    "    sub_len = len(sub)\n",
    "    for i in range(len(tup) - sub_len + 1):\n",
    "        if tup[i:i+sub_len] == sub:\n",
    "            return \"Main tuple contains subsequence tuple: True\"\n",
    "    return False\n",
    "\n",
    "# Example usage\n",
    "tuple1 = (1, 2, 3, 4, 5, 6)\n",
    "tuple2 = (3, 4, 5)\n",
    "\n",
    "result = is_subsequence(tuple2, tuple1)\n",
    "print(result)\n"
   ]
  },
  {
   "cell_type": "code",
   "execution_count": 74,
   "id": "c8aa0a1d-0672-422a-afd2-4e90c7dc4169",
   "metadata": {},
   "outputs": [],
   "source": [
    "# 50 Create a tuple of alternating 1s and 0s of length "
   ]
  },
  {
   "cell_type": "code",
   "execution_count": 88,
   "id": "f0a965cf-fde9-4402-bc17-3b8005fb0b65",
   "metadata": {},
   "outputs": [
    {
     "name": "stdout",
     "output_type": "stream",
     "text": [
      "(0, 1, 0, 1, 0, 1, 0, 1, 0, 1, 0, 1, 0, 1, 0, 1, 0, 1, 0, 1, 0, 1, 0, 1, 0)\n"
     ]
    }
   ],
   "source": [
    "n = 5 \n",
    "alternate_tuple = tuple(i%2 for i in range(25))\n",
    "print(alternate_tuple)"
   ]
  },
  {
   "cell_type": "code",
   "execution_count": null,
   "id": "96c423e6-0c9c-4f13-bd68-f42d98cb318e",
   "metadata": {},
   "outputs": [],
   "source": [
    "##@Set based problems:"
   ]
  },
  {
   "cell_type": "code",
   "execution_count": null,
   "id": "12e49ed9-d9eb-49be-bcd7-609e891bd61b",
   "metadata": {},
   "outputs": [],
   "source": [
    "#1 Create a set with integers from 1 to 5¶"
   ]
  },
  {
   "cell_type": "code",
   "execution_count": 94,
   "id": "eb68aeaf-d66b-48e2-87b1-aef1dd7921f2",
   "metadata": {},
   "outputs": [
    {
     "data": {
      "text/plain": [
       "{1, 2, 3, 4, 5}"
      ]
     },
     "execution_count": 94,
     "metadata": {},
     "output_type": "execute_result"
    }
   ],
   "source": [
    "set(range(1,6))"
   ]
  },
  {
   "cell_type": "code",
   "execution_count": null,
   "id": "a1e84d67-648f-47e8-ab91-d77a43e8ac58",
   "metadata": {},
   "outputs": [],
   "source": [
    "#2 Add an element to a set¶"
   ]
  },
  {
   "cell_type": "code",
   "execution_count": 96,
   "id": "69791dfb-c286-4bd3-9ce9-adf73a03941b",
   "metadata": {},
   "outputs": [
    {
     "name": "stdout",
     "output_type": "stream",
     "text": [
      "{1, 2, 3, 4, 5, 6}\n"
     ]
    }
   ],
   "source": [
    "my_set = {1, 2, 3, 4, 5}\n",
    "newelement = 6\n",
    "my_set.add(newelement)\n",
    "print(my_set)"
   ]
  },
  {
   "cell_type": "code",
   "execution_count": null,
   "id": "da8e7c7d-f194-463b-bd3f-b2f340c54f1a",
   "metadata": {},
   "outputs": [],
   "source": [
    "#3 Remove an element from a set.¶"
   ]
  },
  {
   "cell_type": "code",
   "execution_count": 97,
   "id": "9e62c262-7237-4878-9242-64a74315c1c3",
   "metadata": {},
   "outputs": [
    {
     "name": "stdout",
     "output_type": "stream",
     "text": [
      "{1, 2, 4, 5}\n"
     ]
    }
   ],
   "source": [
    "my_set = {1, 2, 3, 4, 5}\n",
    "newelement = 3\n",
    "my_set.remove(newelement)\n",
    "print(my_set)"
   ]
  },
  {
   "cell_type": "code",
   "execution_count": null,
   "id": "4d9349bb-2322-487b-812a-045d29a7d8a9",
   "metadata": {},
   "outputs": [],
   "source": [
    "# 4 Check if an element exists in a set."
   ]
  },
  {
   "cell_type": "code",
   "execution_count": 100,
   "id": "824a42d1-b221-418e-acc3-9a49aa8e9932",
   "metadata": {},
   "outputs": [
    {
     "name": "stdout",
     "output_type": "stream",
     "text": [
      "element not exists in a set.\n"
     ]
    }
   ],
   "source": [
    "my_set = {1, 2, 3, 4, 5}\n",
    "element = 6\n",
    "if element in my_set:\n",
    "    print(\"element exists in a set.\")\n",
    "else:\n",
    "    print(\"element not exists in a set.\")"
   ]
  },
  {
   "cell_type": "code",
   "execution_count": null,
   "id": "4d0763fb-ed96-4491-b121-3de5c848469b",
   "metadata": {},
   "outputs": [],
   "source": [
    "# 5 Find the length of a set without using the len() function¶"
   ]
  },
  {
   "cell_type": "code",
   "execution_count": 5,
   "id": "8104ec3d-cdb4-4e82-a6d6-e50c594ca534",
   "metadata": {},
   "outputs": [
    {
     "name": "stdout",
     "output_type": "stream",
     "text": [
      "4\n"
     ]
    }
   ],
   "source": [
    "def findlen(set1):\n",
    "    length = 0 \n",
    "    for i in set1:\n",
    "        if i in set1:\n",
    "            length += 1 \n",
    "    return length \n",
    "set1 = {\"Blog\",\"has\",\"been\",\"removed\"}\n",
    "result  = findlen(set1)\n",
    "print(result)"
   ]
  },
  {
   "cell_type": "code",
   "execution_count": null,
   "id": "7fb92fa5-ce28-42be-a751-d07b03e8f948",
   "metadata": {},
   "outputs": [],
   "source": [
    "# 6 Clear all elements from a set."
   ]
  },
  {
   "cell_type": "code",
   "execution_count": 12,
   "id": "acc03f63-84c0-4c23-a766-59c668f85cdb",
   "metadata": {},
   "outputs": [
    {
     "name": "stdout",
     "output_type": "stream",
     "text": [
      "set()\n"
     ]
    }
   ],
   "source": [
    "my_set = {1, 2, 3, 4, 5}\n",
    "my_set.clear()\n",
    "print(my_set)"
   ]
  },
  {
   "cell_type": "code",
   "execution_count": null,
   "id": "4a319570-f13f-465e-8016-08fb9230a179",
   "metadata": {},
   "outputs": [],
   "source": [
    "# 7. Create a set of even numbers from 1 to 10"
   ]
  },
  {
   "cell_type": "code",
   "execution_count": 32,
   "id": "71289fff-b493-42e9-9c8e-c58fc1aed814",
   "metadata": {},
   "outputs": [
    {
     "data": {
      "text/plain": [
       "{2, 4, 6, 8, 10}"
      ]
     },
     "execution_count": 32,
     "metadata": {},
     "output_type": "execute_result"
    }
   ],
   "source": [
    "{ i for i in range(1,11) if i%2 == 0 }"
   ]
  },
  {
   "cell_type": "code",
   "execution_count": 33,
   "id": "febad40f-b201-4128-9e11-1d2aceae0f71",
   "metadata": {},
   "outputs": [],
   "source": [
    "# 8. Create a set of odd numbers from 1 to 10"
   ]
  },
  {
   "cell_type": "code",
   "execution_count": 34,
   "id": "6d54ff9a-859b-4b41-a68c-528fd23a530a",
   "metadata": {},
   "outputs": [
    {
     "data": {
      "text/plain": [
       "{1, 3, 5, 7, 9}"
      ]
     },
     "execution_count": 34,
     "metadata": {},
     "output_type": "execute_result"
    }
   ],
   "source": [
    "{ i for i in range(1,11) if i%2 != 0 }"
   ]
  },
  {
   "cell_type": "code",
   "execution_count": null,
   "id": "733698e2-0ac4-4131-8183-4ef45b4595e5",
   "metadata": {},
   "outputs": [],
   "source": [
    "# 9 Find the union of two sets"
   ]
  },
  {
   "cell_type": "code",
   "execution_count": 36,
   "id": "b3c48ec1-38ec-4fec-a893-2f869e14643f",
   "metadata": {},
   "outputs": [
    {
     "name": "stdout",
     "output_type": "stream",
     "text": [
      "{1, 2, 3, 4, 5, 6, 7, 8, 9, 10}\n"
     ]
    }
   ],
   "source": [
    "set1 = {2, 4, 6, 8, 10}\n",
    "set2 = {1, 3, 5, 7, 9}\n",
    "union = set1.union(set2)\n",
    "print(union)"
   ]
  },
  {
   "cell_type": "code",
   "execution_count": null,
   "id": "d6d67ac3-e78c-4beb-83d5-73e62b353f43",
   "metadata": {},
   "outputs": [],
   "source": [
    "# 10 Find the intersection of two sets"
   ]
  },
  {
   "cell_type": "code",
   "execution_count": 37,
   "id": "47869d0f-26e1-4b54-86ab-246b4fcd70a7",
   "metadata": {},
   "outputs": [
    {
     "name": "stdout",
     "output_type": "stream",
     "text": [
      "{3, 4, 5}\n"
     ]
    }
   ],
   "source": [
    "set1 = {1, 2, 3, 4, 5}\n",
    "set2 = {3, 4, 5, 6, 7}\n",
    "\n",
    "intersection_result = set1.intersection(set2)\n",
    "print(intersection_result)"
   ]
  },
  {
   "cell_type": "code",
   "execution_count": null,
   "id": "4eb3fd19-2794-4f35-a42d-dbfe6aa95264",
   "metadata": {},
   "outputs": [],
   "source": [
    "# 11 Find the difference of two sets"
   ]
  },
  {
   "cell_type": "code",
   "execution_count": 41,
   "id": "8c7409e8-4fd0-4d51-ade0-ec17efd21cfd",
   "metadata": {},
   "outputs": [
    {
     "name": "stdout",
     "output_type": "stream",
     "text": [
      "{1, 2}\n"
     ]
    }
   ],
   "source": [
    "set1 = {1, 2, 3, 4, 5}\n",
    "set2 = {3, 4, 5, 6, 7}\n",
    "\n",
    "difference_result = set1.difference(set2)\n",
    "print(difference_result)"
   ]
  },
  {
   "cell_type": "code",
   "execution_count": 40,
   "id": "72587965-a4ff-4925-87d8-4918a3eb15fe",
   "metadata": {},
   "outputs": [],
   "source": [
    "# 12. Check if a set is a subset of another set."
   ]
  },
  {
   "cell_type": "code",
   "execution_count": 55,
   "id": "58731918-0e60-47a8-bd6d-ef49611c31a0",
   "metadata": {},
   "outputs": [
    {
     "name": "stdout",
     "output_type": "stream",
     "text": [
      "True  :: set 2 is a subset of  set1.\n"
     ]
    }
   ],
   "source": [
    "set1 = {1, 2, 3, 4, 5}\n",
    "set2 = {3, 4}\n",
    "\n",
    "subset_result = set2.issubset(set1)\n",
    "print(subset_result, \" :: set 2 is a subset of  set1.\" )"
   ]
  },
  {
   "cell_type": "code",
   "execution_count": 56,
   "id": "d52cb7ac-e41b-4c17-a615-1d1aafb06dbe",
   "metadata": {},
   "outputs": [],
   "source": [
    "# 13. Check if a set is a superset of another set."
   ]
  },
  {
   "cell_type": "code",
   "execution_count": 57,
   "id": "aa77925a-6951-4ac3-8499-3cd2e589385f",
   "metadata": {},
   "outputs": [
    {
     "name": "stdout",
     "output_type": "stream",
     "text": [
      "True  :: set 2 is a superset of  set1.\n"
     ]
    }
   ],
   "source": [
    "set1 = {1, 2, 3, 4, 5}\n",
    "set2 = {3, 4}\n",
    "\n",
    "superset_result = set1.issuperset(set2)\n",
    "print(superset_result, \" :: set 2 is a superset of  set1.\" )"
   ]
  },
  {
   "cell_type": "code",
   "execution_count": 58,
   "id": "f9520764-33a5-4537-893a-49cfd958a252",
   "metadata": {},
   "outputs": [],
   "source": [
    "# 14. Create a set from a list"
   ]
  },
  {
   "cell_type": "code",
   "execution_count": 60,
   "id": "6aaa109c-c946-4ca0-8936-e32f084cec36",
   "metadata": {},
   "outputs": [
    {
     "data": {
      "text/plain": [
       "{1, 2, 3, 4, 5}"
      ]
     },
     "execution_count": 60,
     "metadata": {},
     "output_type": "execute_result"
    }
   ],
   "source": [
    "set([1, 2, 3, 4, 5])"
   ]
  },
  {
   "cell_type": "code",
   "execution_count": 61,
   "id": "3030aee8-2135-4d58-bb45-bec10f46f623",
   "metadata": {},
   "outputs": [],
   "source": [
    "# 15 Convert a set to a list.¶"
   ]
  },
  {
   "cell_type": "code",
   "execution_count": 62,
   "id": "0b369685-d67f-46fe-9ba5-89a2b66db571",
   "metadata": {},
   "outputs": [
    {
     "data": {
      "text/plain": [
       "[1, 2, 3, 4, 5]"
      ]
     },
     "execution_count": 62,
     "metadata": {},
     "output_type": "execute_result"
    }
   ],
   "source": [
    "list({1, 2, 3, 4, 5})"
   ]
  },
  {
   "cell_type": "code",
   "execution_count": 63,
   "id": "60e7230d-18a7-466e-bb70-d80d4ba58292",
   "metadata": {},
   "outputs": [],
   "source": [
    "# 16 Remove a random element from a set."
   ]
  },
  {
   "cell_type": "code",
   "execution_count": 67,
   "id": "00266e60-86df-44ee-828f-1fb9ff245331",
   "metadata": {},
   "outputs": [
    {
     "name": "stdout",
     "output_type": "stream",
     "text": [
      "myset {1, 2, 3, 4, 5}\n",
      "Set after removing random element :: {1, 2, 3, 4}\n"
     ]
    }
   ],
   "source": [
    "import random \n",
    "my_set = {1, 2, 3, 4, 5}\n",
    "print(\"myset\" ,my_set)\n",
    "random_element = random.choice(list(my_set))\n",
    "my_set.remove(random_element)\n",
    "print(\"Set after removing random element ::\",my_set)"
   ]
  },
  {
   "cell_type": "code",
   "execution_count": null,
   "id": "e13d8725-3291-4dfc-82fa-c4bde80562ab",
   "metadata": {},
   "outputs": [],
   "source": [
    "# 17. Pop an element from a set."
   ]
  },
  {
   "cell_type": "code",
   "execution_count": 98,
   "id": "1f47fb5a-de58-44f9-863e-fe918203f65f",
   "metadata": {},
   "outputs": [
    {
     "name": "stdout",
     "output_type": "stream",
     "text": [
      "poped element :  1\n"
     ]
    }
   ],
   "source": [
    "my_set = {1, 2, 3, 4, 5}\n",
    "newset = my_set.pop()\n",
    "print(\"poped element : \",newset)"
   ]
  },
  {
   "cell_type": "code",
   "execution_count": 99,
   "id": "5bfc1118-cf02-4627-b4d0-8abe1fa26b7e",
   "metadata": {},
   "outputs": [],
   "source": [
    "# 18 Check if two sets have no elements in common."
   ]
  },
  {
   "cell_type": "code",
   "execution_count": 104,
   "id": "f15834e4-b81c-4590-a270-d165649abb53",
   "metadata": {},
   "outputs": [
    {
     "name": "stdout",
     "output_type": "stream",
     "text": [
      "set()\n",
      "The two sets have no elements in common.\n"
     ]
    }
   ],
   "source": [
    "set1 = {1, 2, 3, 4, 5}\n",
    "set2 = {6, 7}\n",
    "\n",
    "common_elements = set1.intersection(set2)\n",
    "print(common_elements)\n",
    "\n",
    "if not common_elements:\n",
    "    print(\"The two sets have no elements in common.\")\n",
    "else:\n",
    "    print(\"The two sets have common elements:\", common_elements)\n"
   ]
  },
  {
   "cell_type": "code",
   "execution_count": 105,
   "id": "de043d87-cac2-498c-aee9-858f35b72e79",
   "metadata": {},
   "outputs": [],
   "source": [
    "# 19 Find the symmetric difference between two sets."
   ]
  },
  {
   "cell_type": "code",
   "execution_count": 5,
   "id": "6dbdc7fc-b892-4c22-b954-dc75935e320e",
   "metadata": {},
   "outputs": [
    {
     "name": "stdout",
     "output_type": "stream",
     "text": [
      "Symmetric Difference: {4, 5, 6, 7}\n"
     ]
    }
   ],
   "source": [
    "set1 = {1, 2, 3, 4, 5}\n",
    "set2 = {6, 7, 1, 2, 3}\n",
    "\n",
    "symmetric_difference = set1^ set2\n",
    "print(\"Symmetric Difference:\", symmetric_difference)"
   ]
  },
  {
   "cell_type": "code",
   "execution_count": null,
   "id": "5ce19774-77d8-468d-9c9f-5dccf73a9408",
   "metadata": {},
   "outputs": [],
   "source": [
    "# 20. Update a set with elements from another set."
   ]
  },
  {
   "cell_type": "code",
   "execution_count": null,
   "id": "451f0f91-1e66-43f9-a7ca-0f1e1c25a7df",
   "metadata": {},
   "outputs": [],
   "source": [
    "set1 = {1, 2, 3, 4, 5}\n",
    "set2 = {6, 7, 8, 9 ,0}\n",
    "\n",
    "Update_set = set1.update(set2)rint(\"set1:\",set1)\n",
    "print(\"set2:\",set2)"
   ]
  },
  {
   "cell_type": "code",
   "execution_count": null,
   "id": "44cf41d0-120d-42f9-a0fa-cbae19532961",
   "metadata": {},
   "outputs": [],
   "source": [
    "#21 Create a set of the first 5 prime numbers."
   ]
  },
  {
   "cell_type": "code",
   "execution_count": 4,
   "id": "ac76b4b6-b41c-4599-a996-bd0955e76608",
   "metadata": {},
   "outputs": [
    {
     "name": "stdout",
     "output_type": "stream",
     "text": [
      "[2, 3, 5, 7, 11]\n"
     ]
    }
   ],
   "source": [
    "def is_prime(num):\n",
    "    if num < 2:\n",
    "        return False\n",
    "    for i in range(2, int(num**0.5) + 1):\n",
    "        if num % i == 0:\n",
    "            return False\n",
    "    return True\n",
    "\n",
    "def first_5_prime_numbers():\n",
    "    primes = []\n",
    "    num = 2\n",
    "    while len(primes) < 5:\n",
    "        if is_prime(num):\n",
    "            primes.append(num)\n",
    "        num += 1\n",
    "    return primes\n",
    "\n",
    "result = first_5_prime_numbers()\n",
    "print(result)\n"
   ]
  },
  {
   "cell_type": "code",
   "execution_count": null,
   "id": "bf0ed56f-8250-487e-a224-58c769b1b084",
   "metadata": {},
   "outputs": [],
   "source": [
    "# 22. Check if two sets are identical."
   ]
  },
  {
   "cell_type": "code",
   "execution_count": 12,
   "id": "9792acaa-04b5-475d-a62c-79112834d7ae",
   "metadata": {},
   "outputs": [
    {
     "name": "stdout",
     "output_type": "stream",
     "text": [
      "set1 & set2 two sets are identical\n"
     ]
    }
   ],
   "source": [
    "set1 = {1, 2, 3, 4, 5}\n",
    "set2 = {1, 2, 3, 4, 5}\n",
    "\n",
    "if set1 == set2:\n",
    "    print (\"set1 & set2 two sets are identical\")\n",
    "    \n",
    "else:\n",
    "     print (\"set1 & set2 two sets are not identical\")"
   ]
  },
  {
   "cell_type": "code",
   "execution_count": 13,
   "id": "37a826c2-9586-4c01-9863-99e10a5d6ad9",
   "metadata": {},
   "outputs": [],
   "source": [
    "# 23. Create a frozen set"
   ]
  },
  {
   "cell_type": "code",
   "execution_count": 22,
   "id": "fc761abe-5c57-4319-b164-7a7df45a6d12",
   "metadata": {},
   "outputs": [
    {
     "data": {
      "text/plain": [
       "frozenset({2, 3, 5, 7, 11})"
      ]
     },
     "execution_count": 22,
     "metadata": {},
     "output_type": "execute_result"
    }
   ],
   "source": [
    "elements = [2, 3, 5, 7, 11]\n",
    "element_set = set(elements)\n",
    "\n",
    "frozen_set = frozenset(elements)\n",
    "frozen_set"
   ]
  },
  {
   "cell_type": "code",
   "execution_count": null,
   "id": "c08359f2-8a7a-427a-aee2-ecf1210ae1a9",
   "metadata": {},
   "outputs": [],
   "source": [
    "# 24. Check if a set is disjoint with another set."
   ]
  },
  {
   "cell_type": "code",
   "execution_count": 23,
   "id": "7ecd013e-0ac1-45c0-9aa0-0ddf7bb54ea8",
   "metadata": {},
   "outputs": [
    {
     "name": "stdout",
     "output_type": "stream",
     "text": [
      "Are the sets disjoint? True\n"
     ]
    }
   ],
   "source": [
    "set1 = {1, 2, 3, 4}\n",
    "set2 = {5, 6, 7, 8}\n",
    "\n",
    "disjoint_status = set1.isdisjoint(set2)\n",
    "\n",
    "print(\"Are the sets disjoint?\", disjoint_status)"
   ]
  },
  {
   "cell_type": "code",
   "execution_count": 24,
   "id": "ac80b775-d61c-4e8c-a7c0-4bd932d0cc6b",
   "metadata": {},
   "outputs": [],
   "source": [
    "# 25. Create a set of squares of numbers from 1 to 5."
   ]
  },
  {
   "cell_type": "code",
   "execution_count": 47,
   "id": "9ea665b5-f60b-4c2c-ae8b-8c6cc3312549",
   "metadata": {},
   "outputs": [
    {
     "name": "stdout",
     "output_type": "stream",
     "text": [
      "{1, 4, 9, 16, 25}\n"
     ]
    }
   ],
   "source": [
    "def squareset(n):\n",
    "    square_set = set()\n",
    "    for i in range(1 , n+1  ):\n",
    "        square_set.add(i**2) \n",
    "    return square_set\n",
    "\n",
    "n = 5 \n",
    "result =  squareset(n)\n",
    "print (result)"
   ]
  },
  {
   "cell_type": "code",
   "execution_count": 48,
   "id": "72056ac9-59c2-46cf-94fc-f5824c12f42a",
   "metadata": {},
   "outputs": [],
   "source": [
    "# 26 Filter out all even numbers from a set."
   ]
  },
  {
   "cell_type": "code",
   "execution_count": 49,
   "id": "e8e3b8e2-fde6-443d-959c-179893913f9d",
   "metadata": {},
   "outputs": [
    {
     "name": "stdout",
     "output_type": "stream",
     "text": [
      "filtered Even Numbers :  {16, 4, 36}\n"
     ]
    }
   ],
   "source": [
    "def filterset(my_set):\n",
    "    even_num = set()\n",
    "    for num in my_set:\n",
    "        if num % 2 == 0 :\n",
    "            even_num.add(num)\n",
    "    if not even_num:\n",
    "        return None  \n",
    "    return even_num\n",
    "        \n",
    "my_set = {1, 4, 9, 16, 25, 36}\n",
    "result = filterset(my_set)\n",
    "print(\"filtered Even Numbers : \", result)"
   ]
  },
  {
   "cell_type": "code",
   "execution_count": null,
   "id": "96e1c278-c21a-492b-8f44-f745c112dbdb",
   "metadata": {},
   "outputs": [],
   "source": [
    "# 27. Multiply all elements in a set by 2."
   ]
  },
  {
   "cell_type": "code",
   "execution_count": 58,
   "id": "40810610-7bbf-42af-b1a8-c0e7dfe35740",
   "metadata": {},
   "outputs": [
    {
     "name": "stdout",
     "output_type": "stream",
     "text": [
      "{32, 2, 18, 50, 8, 72}\n"
     ]
    }
   ],
   "source": [
    "def mutiply(my_set):\n",
    "    \n",
    "    multiplied_set = set()\n",
    "    for i  in my_set:\n",
    "        multiplied_set.add(i*2)\n",
    "    return (multiplied_set)\n",
    "\n",
    "my_set = {1, 4, 9, 16, 25, 36}\n",
    "result = mutiply(my_set)\n",
    "print(result)\n"
   ]
  },
  {
   "cell_type": "code",
   "execution_count": null,
   "id": "96299b1c-cdda-43a3-829e-b6e0b275c3ff",
   "metadata": {},
   "outputs": [],
   "source": [
    "#  28. Create a set of random numbers."
   ]
  },
  {
   "cell_type": "code",
   "execution_count": 16,
   "id": "ea787550-18c0-4a53-a886-a9997820eefc",
   "metadata": {},
   "outputs": [
    {
     "name": "stdout",
     "output_type": "stream",
     "text": [
      "Generated set of random numbers: {98, 31, 62, 23}\n"
     ]
    }
   ],
   "source": [
    "import random\n",
    "  \n",
    "random_num = 5\n",
    "random_set = set()\n",
    "for _ in range(random_num):\n",
    "    random_n = random.randint(1,100)\n",
    "    random_set.add(random_n)\n",
    "print(\"Generated set of random numbers:\", random_set)\n",
    "    "
   ]
  },
  {
   "cell_type": "code",
   "execution_count": 36,
   "id": "be64bae0-51ff-495f-8ec8-2377d73d9dda",
   "metadata": {},
   "outputs": [],
   "source": [
    "# 29 Check if a set is empty."
   ]
  },
  {
   "cell_type": "code",
   "execution_count": 35,
   "id": "fb68c19a-f94a-47d5-8e2b-10a0787b97c5",
   "metadata": {},
   "outputs": [
    {
     "name": "stdout",
     "output_type": "stream",
     "text": [
      "my_set : {1}\n",
      "result : set is not empty\n"
     ]
    }
   ],
   "source": [
    "def checkset(my_set):\n",
    "    for _ in (my_set):\n",
    "        return ( \"set is not empty\")\n",
    "    else:\n",
    "        return ( \"set is empty\")\n",
    "\n",
    "my_set = {1}    \n",
    "result = checkset(my_set)\n",
    "print(\"my_set :\"  , my_set)\n",
    "print(\"result :\", result)"
   ]
  },
  {
   "cell_type": "code",
   "execution_count": 37,
   "id": "98a26035-41ec-4f2c-af3c-74ba4c884e5e",
   "metadata": {},
   "outputs": [],
   "source": [
    "# 30 Create a nested set (hint: use frozenset)."
   ]
  },
  {
   "cell_type": "code",
   "execution_count": 39,
   "id": "895976ec-b28d-4e84-8602-b8586ffd04a9",
   "metadata": {},
   "outputs": [
    {
     "name": "stdout",
     "output_type": "stream",
     "text": [
      "nested_frozen_set : {frozenset({1, 2, 3, 4, 5}), frozenset({6, 7, 8, 9, 10})}\n"
     ]
    }
   ],
   "source": [
    "set1 = {1, 2, 3, 4, 5}\n",
    "set2 = {6, 7, 8, 9, 10}\n",
    "frozen_set1 = frozenset(set1)\n",
    "frozen_set2 = frozenset(set2)\n",
    "\n",
    "\n",
    "nested_frozen_set = {frozen_set1, frozen_set2}\n",
    "\n",
    "# Print the nested set\n",
    "print(\"nested_frozen_set :\", nested_set)"
   ]
  },
  {
   "cell_type": "code",
   "execution_count": 40,
   "id": "44138044-45fa-4a9f-9e10-287ba4ae6c75",
   "metadata": {},
   "outputs": [],
   "source": [
    "# 31. Remove an element from a set using the discard method."
   ]
  },
  {
   "cell_type": "code",
   "execution_count": 41,
   "id": "90f15e33-f551-4b07-942c-b11a34d48868",
   "metadata": {},
   "outputs": [
    {
     "name": "stdout",
     "output_type": "stream",
     "text": [
      "{1, 2, 4, 5}\n"
     ]
    }
   ],
   "source": [
    "my_set = {1, 2, 3, 4, 5}\n",
    "newelement = 3\n",
    "my_set.discard(newelement)\n",
    "print(my_set)"
   ]
  },
  {
   "cell_type": "code",
   "execution_count": 42,
   "id": "9f4c3815-1230-4d48-984c-6159a94f1170",
   "metadata": {},
   "outputs": [],
   "source": [
    "# 32 Compare two sets."
   ]
  },
  {
   "cell_type": "code",
   "execution_count": 46,
   "id": "314e7b74-d89f-4efc-ae1a-acdb7f6ae821",
   "metadata": {},
   "outputs": [
    {
     "name": "stdout",
     "output_type": "stream",
     "text": [
      "set1: {1, 2, 3, 4, 5}\n",
      "set2: {4, 5, 6, 7, 8}\n",
      "Is set1 a subset of set2? False\n"
     ]
    }
   ],
   "source": [
    "set1 = {1, 2, 3, 4, 5}\n",
    "set2 = {4, 5, 6, 7, 8}\n",
    "\n",
    "is_subset = set1.issubset(set2)\n",
    "\n",
    "print(\"set1:\", set1)\n",
    "print(\"set2:\", set2)\n",
    "print(\"Is set1 a subset of set2?\", is_subset)\n"
   ]
  },
  {
   "cell_type": "code",
   "execution_count": 48,
   "id": "cb9bb261-7b8e-4ff2-ac89-2c739b060e90",
   "metadata": {},
   "outputs": [
    {
     "data": {
      "text/plain": [
       "{'C', 'a', 'e', 'r', 't'}"
      ]
     },
     "execution_count": 48,
     "metadata": {},
     "output_type": "execute_result"
    }
   ],
   "source": [
    "# 33 Create a set from a string\n",
    "\n",
    "set_of_string  = set(\"Create\")\n",
    "set_of_string"
   ]
  },
  {
   "cell_type": "code",
   "execution_count": 49,
   "id": "5b2c74c6-9560-45df-aabd-3da773b03e6e",
   "metadata": {},
   "outputs": [],
   "source": [
    "# 34. Convert a set of strings to a set of integers."
   ]
  },
  {
   "cell_type": "code",
   "execution_count": 18,
   "id": "97a8c7a0-03e8-408f-aacc-f57a6dc8bcc5",
   "metadata": {},
   "outputs": [
    {
     "name": "stdout",
     "output_type": "stream",
     "text": [
      "set_of_string  {'99', '13', '65'}\n",
      "set_of_integer: {65, 99, 13}\n"
     ]
    }
   ],
   "source": [
    "set_of_string = {\"13\",\"65\",\"99\"}\n",
    "set_of_integer = set()\n",
    "\n",
    "for i in set_of_string:\n",
    "    integer_value = int(i)\n",
    "    set_of_integer.add(integer_value)\n",
    "print (\"set_of_string \",  set_of_string)\n",
    "print (\"set_of_integer:\", set_of_integer)"
   ]
  },
  {
   "cell_type": "code",
   "execution_count": 19,
   "id": "fa2d599c-1e4d-4060-b9b4-b978b39e9a57",
   "metadata": {},
   "outputs": [],
   "source": [
    "#35  Convert a set of integers to a set of strings."
   ]
  },
  {
   "cell_type": "code",
   "execution_count": 24,
   "id": "fc7a1e07-758a-433d-afb6-fc4ba623ffaf",
   "metadata": {},
   "outputs": [
    {
     "name": "stdout",
     "output_type": "stream",
     "text": [
      "set_of_integer: {65, 99, 13}\n",
      "set_of_string  {'13', '99', '65'}\n"
     ]
    }
   ],
   "source": [
    "set_of_integer  = {65, 99, 13}\n",
    "set_of_string = set()\n",
    "\n",
    "for i in set_of_integer:\n",
    "    set_value = str(i)\n",
    "    set_of_string.add(set_value)\n",
    "    \n",
    "print (\"set_of_integer:\", set_of_integer)\n",
    "print (\"set_of_string \",  set_of_string)\n"
   ]
  },
  {
   "cell_type": "code",
   "execution_count": 25,
   "id": "c33477c9-5b00-45ee-b4a2-6776562e91e9",
   "metadata": {},
   "outputs": [],
   "source": [
    "# 36 Create a set from a tuple."
   ]
  },
  {
   "cell_type": "code",
   "execution_count": 27,
   "id": "ffab3191-5cf0-4215-b7e7-16a205596c83",
   "metadata": {},
   "outputs": [
    {
     "name": "stdout",
     "output_type": "stream",
     "text": [
      "{13, 99, 5}\n"
     ]
    }
   ],
   "source": [
    "tuple1 = (5, 99, 13)\n",
    "print(set(tuple1))"
   ]
  },
  {
   "cell_type": "code",
   "execution_count": 28,
   "id": "304db3d2-74f2-45fe-9bb2-f4ca44a8ba5c",
   "metadata": {},
   "outputs": [],
   "source": [
    "# 37  Convert a set to a tuple"
   ]
  },
  {
   "cell_type": "code",
   "execution_count": 29,
   "id": "dfd471be-b30c-4e14-9a44-bf3ad5212143",
   "metadata": {},
   "outputs": [
    {
     "name": "stdout",
     "output_type": "stream",
     "text": [
      "(5, 99, 13)\n"
     ]
    }
   ],
   "source": [
    "set1 = {5, 99, 13}\n",
    "print(tuple(set1))"
   ]
  },
  {
   "cell_type": "code",
   "execution_count": 30,
   "id": "9177864f-7cee-4ee7-b64f-9b92b5b7c264",
   "metadata": {},
   "outputs": [],
   "source": [
    "# 38. Find the maximum value in a set."
   ]
  },
  {
   "cell_type": "code",
   "execution_count": 66,
   "id": "9fa4edc7-5155-4b3d-930d-d5c9c5f9d9dc",
   "metadata": {},
   "outputs": [
    {
     "name": "stdout",
     "output_type": "stream",
     "text": [
      "100\n"
     ]
    }
   ],
   "source": [
    "def maxval(set1):\n",
    "    maxval = 0\n",
    "\n",
    "    for i in set1:\n",
    "        if maxval == 0 or i >  maxval :\n",
    "            maxval = i\n",
    "    return maxval\n",
    "\n",
    "set1 = {5, 99 , 13,100}\n",
    "result = maxval(set1)\n",
    "print(result)\n"
   ]
  },
  {
   "cell_type": "code",
   "execution_count": 67,
   "id": "7b412c25-2c30-4c56-9603-b317b62447c4",
   "metadata": {},
   "outputs": [
    {
     "data": {
      "text/plain": [
       "99"
      ]
     },
     "execution_count": 67,
     "metadata": {},
     "output_type": "execute_result"
    }
   ],
   "source": [
    "max({5, 99 , 13})"
   ]
  },
  {
   "cell_type": "code",
   "execution_count": null,
   "id": "fd7d4f66-73ff-473f-9093-b6211fca24be",
   "metadata": {},
   "outputs": [],
   "source": [
    "# 39. Find the minimum value in a set."
   ]
  },
  {
   "cell_type": "code",
   "execution_count": 70,
   "id": "2f4cfc79-40da-41ff-9c97-af55610f288b",
   "metadata": {},
   "outputs": [
    {
     "name": "stdout",
     "output_type": "stream",
     "text": [
      "5\n"
     ]
    }
   ],
   "source": [
    "def minval(set1):\n",
    "    minval = 0\n",
    "\n",
    "    for i in set1:\n",
    "        if minval == 0 or i <  minval :\n",
    "            minval = i\n",
    "    return minval\n",
    "\n",
    "set1 = {5, 99 , 13,100}\n",
    "result = minval(set1)\n",
    "print(result)"
   ]
  },
  {
   "cell_type": "code",
   "execution_count": 81,
   "id": "1945d8d7-6ff8-447b-8ec1-3c1b54485e62",
   "metadata": {},
   "outputs": [
    {
     "name": "stdin",
     "output_type": "stream",
     "text": [
      "Enter the Values , you want to put in set::  2\n"
     ]
    },
    {
     "name": "stdout",
     "output_type": "stream",
     "text": [
      "{'2'}\n"
     ]
    }
   ],
   "source": [
    "# 40. Create a set from user input.\n",
    "\n",
    "def create_set_from(user_input):\n",
    "    created_set = set()\n",
    "\n",
    "    for i in user_input.split():\n",
    "        createdin_set.add(i)\n",
    "    return created_set\n",
    "\n",
    "user_input = (input(\"Enter the Values , you want to put in set:: \"))\n",
    "result = create_set_from(user_input)\n",
    "print(result)\n"
   ]
  },
  {
   "cell_type": "code",
   "execution_count": 82,
   "id": "1f7bbf4e-e8ec-46d9-a11e-c979f33a57bc",
   "metadata": {},
   "outputs": [],
   "source": [
    "# 41. Check if the intersection of two sets is empty."
   ]
  },
  {
   "cell_type": "code",
   "execution_count": 92,
   "id": "0243706b-3993-44b6-933e-d05a5e75924a",
   "metadata": {},
   "outputs": [
    {
     "ename": "AttributeError",
     "evalue": "'dict' object has no attribute 'intersection'",
     "output_type": "error",
     "traceback": [
      "\u001b[0;31m---------------------------------------------------------------------------\u001b[0m",
      "\u001b[0;31mAttributeError\u001b[0m                            Traceback (most recent call last)",
      "Cell \u001b[0;32mIn[92], line 3\u001b[0m\n\u001b[1;32m      1\u001b[0m set1 \u001b[38;5;241m=\u001b[39m {}\n\u001b[1;32m      2\u001b[0m set2 \u001b[38;5;241m=\u001b[39m {}\n\u001b[0;32m----> 3\u001b[0m updated_set \u001b[38;5;241m=\u001b[39m \u001b[43mset1\u001b[49m\u001b[38;5;241;43m.\u001b[39;49m\u001b[43mintersection\u001b[49m(set2)\n\u001b[1;32m      4\u001b[0m \u001b[38;5;28mprint\u001b[39m(updated_set)\n\u001b[1;32m      6\u001b[0m \u001b[38;5;66;03m# It is AttributeError\u001b[39;00m\n",
      "\u001b[0;31mAttributeError\u001b[0m: 'dict' object has no attribute 'intersection'"
     ]
    }
   ],
   "source": [
    "set1 = {}\n",
    "set2 = {}\n",
    "updated_set = set1.intersection(set2)\n",
    "print(updated_set)\n",
    "\n",
    "# It is AttributeError"
   ]
  },
  {
   "cell_type": "code",
   "execution_count": 93,
   "id": "b361779d-6acd-4243-acb9-5db0b68a17e5",
   "metadata": {},
   "outputs": [],
   "source": [
    "# 42 Create a set of the first 5 Fibonacci numbers."
   ]
  },
  {
   "cell_type": "code",
   "execution_count": 118,
   "id": "0e35a21d-0038-495d-bc95-b6f95a548e80",
   "metadata": {},
   "outputs": [
    {
     "name": "stdout",
     "output_type": "stream",
     "text": [
      "{0, 1, 2, 3}\n"
     ]
    }
   ],
   "source": [
    "def first_5_Fibonacci(n):\n",
    "    if n <= 0:\n",
    "        return \"Please enter a positive integer for the number of Fibonacci numbers.\"\n",
    "\n",
    "    fibonacci_set = set()\n",
    "\n",
    "    a, b = 0, 1\n",
    "    for _ in range(n):\n",
    "        fibonacci_set.add(a)\n",
    "        a, b = b, a + b\n",
    "\n",
    "    return fibonacci_set\n",
    "\n",
    "number = 5\n",
    "result = first_5_Fibonacci(number)\n",
    "print(result)\n",
    "\n"
   ]
  },
  {
   "cell_type": "code",
   "execution_count": 121,
   "id": "8fdb295b-747e-4a99-90a0-a3c71fd4aa2a",
   "metadata": {},
   "outputs": [
    {
     "name": "stdout",
     "output_type": "stream",
     "text": [
      "Removed duplicates from original_list: {2, 4, 6, 8, 10, 12, 14}\n"
     ]
    }
   ],
   "source": [
    "#43 Remove duplicates from a list using sets.\n",
    "original_list = [2, 4, 6, 8, 4, 10, 6, 12, 14, 8]\n",
    "print(\"Removed duplicates from original_list:\", set(original_list))"
   ]
  },
  {
   "cell_type": "code",
   "execution_count": 122,
   "id": "627dce27-2285-45e9-b45a-1f3c9ff65885",
   "metadata": {},
   "outputs": [],
   "source": [
    "# 44 .Check if two sets have the same elements, regardless of their count."
   ]
  },
  {
   "cell_type": "code",
   "execution_count": 132,
   "id": "f931e421-c359-4297-bc9b-83525dd0d3a2",
   "metadata": {},
   "outputs": [
    {
     "name": "stdout",
     "output_type": "stream",
     "text": [
      "The sets have the same elements.\n"
     ]
    }
   ],
   "source": [
    "def check_same_elements(set1, set2):\n",
    "    set1 = {1, 2, 3, 2, 1}\n",
    "    set2 = {1,2,3}\n",
    "    return set1 == set2\n",
    "\n",
    "result = check_same_elements(set1, set2)\n",
    "\n",
    "if result:\n",
    "    print(\"The sets have the same elements.\")\n",
    "else:\n",
    "    print(\"The sets do not have the same elements.\")"
   ]
  },
  {
   "cell_type": "code",
   "execution_count": null,
   "id": "ac65ef01-de5a-470f-80ad-4af3dcf96adf",
   "metadata": {},
   "outputs": [],
   "source": [
    "# 45 Create a set of the first n powers of 2 "
   ]
  },
  {
   "cell_type": "code",
   "execution_count": 11,
   "id": "09fdf387-2e32-4361-9bcc-84497d7b2d5b",
   "metadata": {},
   "outputs": [
    {
     "name": "stdout",
     "output_type": "stream",
     "text": [
      "[1, 2, 4, 8, 16, 32, 64, 128, 256, 512]\n"
     ]
    }
   ],
   "source": [
    "def power(a,n):\n",
    "    \n",
    "    set_of_2_powers = set()\n",
    "    \n",
    "    for i in n :\n",
    "        if i ==0 :\n",
    "            set_of_2_powers.add(1)\n",
    "        else:\n",
    "            set_of_2_powers.add(a ** i) \n",
    "    return set_of_2_powers\n",
    "\n",
    "a = 2 \n",
    "n = range(0,10)\n",
    "power(a,n)\n",
    "result = power(a, n)\n",
    "print(sorted(result))"
   ]
  },
  {
   "cell_type": "code",
   "execution_count": 16,
   "id": "2ac9cc68-06be-4f7d-bc37-8d9f208ef5d2",
   "metadata": {},
   "outputs": [],
   "source": [
    "# 46. Find the common elements between a set and a list.¶"
   ]
  },
  {
   "cell_type": "code",
   "execution_count": 23,
   "id": "2023e38c-73ae-4831-b376-cc8f89190cb5",
   "metadata": {},
   "outputs": [
    {
     "name": "stdout",
     "output_type": "stream",
     "text": [
      "common elements between a set and a list: {1, 2, 3}\n"
     ]
    }
   ],
   "source": [
    "set1 = {1, 2, 3, 2, 1}\n",
    "list1 = [1,2,3]\n",
    "print(\"common elements between a set and a list:\",set1.intersection(list1))\n"
   ]
  },
  {
   "cell_type": "code",
   "execution_count": null,
   "id": "75cc665e-0996-41c1-aeb0-da0e6def6655",
   "metadata": {},
   "outputs": [],
   "source": [
    "#47 Create a set of the first n triangular numbers.:¶"
   ]
  },
  {
   "cell_type": "code",
   "execution_count": 26,
   "id": "8d3179c3-e48d-4ced-93be-6dc5f8c51367",
   "metadata": {},
   "outputs": [
    {
     "name": "stdout",
     "output_type": "stream",
     "text": [
      "{1, 3, 6, 10, 15}\n"
     ]
    }
   ],
   "source": [
    "def listoftriangle(n):\n",
    "    listtriangle = set()\n",
    "   \n",
    "    for i in range(1,n+1):\n",
    "        listtriangl = (i*(i+1)//2)\n",
    "        listtriangle.add(listtriangl)\n",
    "    \n",
    "    return listtriangle\n",
    "\n",
    "result = listoftriangle(5)\n",
    "print (result) "
   ]
  },
  {
   "cell_type": "code",
   "execution_count": 27,
   "id": "a1159c0b-016e-4907-b164-1ee433ef092b",
   "metadata": {},
   "outputs": [],
   "source": [
    "# 48 Check if a set contains another set as a subset."
   ]
  },
  {
   "cell_type": "code",
   "execution_count": 33,
   "id": "55be8a40-2f7e-4169-ad2c-faac44134642",
   "metadata": {},
   "outputs": [
    {
     "name": "stdout",
     "output_type": "stream",
     "text": [
      "set1: {1, 2, 3, 4, 5}\n",
      "set2: {4, 5, 6, 7, 8}\n",
      "set1 is not a subset of set2\n"
     ]
    }
   ],
   "source": [
    "set1 = {1, 2, 3, 4, 5}\n",
    "set2 = {4, 5, 6, 7, 8}\n",
    "\n",
    "is_subset = set1.issubset(set2)\n",
    "\n",
    "print(\"set1:\", set1)\n",
    "print(\"set2:\", set2)\n",
    "\n",
    "\n",
    "if is_subset is False:\n",
    "    print( \"set1 is not a subset of set2\")\n",
    "    "
   ]
  },
  {
   "cell_type": "code",
   "execution_count": null,
   "id": "d9189aa2-38b3-4828-96f7-e50837d3ded4",
   "metadata": {},
   "outputs": [],
   "source": [
    "# 49. Create a set of alternating 1s and 0s of length n."
   ]
  },
  {
   "cell_type": "code",
   "execution_count": 49,
   "id": "a4add9d5-92a1-4bc7-bbb5-c7133d2b57a8",
   "metadata": {},
   "outputs": [
    {
     "name": "stdout",
     "output_type": "stream",
     "text": [
      "{0, 1}\n"
     ]
    }
   ],
   "source": [
    "def set_of_alternatives(n):\n",
    "    set_of_alternative = set()\n",
    "    for i in range(n) :\n",
    "        if i%2 == 0 :\n",
    "            set_of_alternative.add(1)\n",
    "        else : \n",
    "            set_of_alternative.add(0)\n",
    "    return set_of_alternative\n",
    "    \n",
    "n = 6\n",
    "result = set_of_alternatives(n)\n",
    "\n",
    "print(result)"
   ]
  },
  {
   "cell_type": "code",
   "execution_count": 50,
   "id": "33a0f230-a9f6-43e0-9261-d691db1301c6",
   "metadata": {},
   "outputs": [],
   "source": [
    "# 50. Merge multiple sets into one."
   ]
  },
  {
   "cell_type": "code",
   "execution_count": 52,
   "id": "1bfae000-133e-4554-8dca-bc493ea902c3",
   "metadata": {},
   "outputs": [
    {
     "name": "stdout",
     "output_type": "stream",
     "text": [
      "Merged_set: {3457, 225, 35, 3445, 25}\n"
     ]
    }
   ],
   "source": [
    "set1 = {25,35}\n",
    "set2 = {225,3457}\n",
    "set3 = {225,3445}\n",
    "\n",
    "print(\"Merged_set:\",set1.union(set2,set3))\n"
   ]
  },
  {
   "cell_type": "code",
   "execution_count": null,
   "id": "bb4be54d-641c-4472-9936-9b30f3869501",
   "metadata": {},
   "outputs": [],
   "source": []
  }
 ],
 "metadata": {
  "kernelspec": {
   "display_name": "Python 3 (ipykernel)",
   "language": "python",
   "name": "python3"
  },
  "language_info": {
   "codemirror_mode": {
    "name": "ipython",
    "version": 3
   },
   "file_extension": ".py",
   "mimetype": "text/x-python",
   "name": "python",
   "nbconvert_exporter": "python",
   "pygments_lexer": "ipython3",
   "version": "3.10.8"
  }
 },
 "nbformat": 4,
 "nbformat_minor": 5
}
